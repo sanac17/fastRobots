{
 "cells": [
  {
   "cell_type": "code",
   "execution_count": 211,
   "id": "afc75cbc-fc99-4f29-9a80-f3cdfa369ca7",
   "metadata": {},
   "outputs": [
    {
     "name": "stdout",
     "output_type": "stream",
     "text": [
      "The autoreload extension is already loaded. To reload it, use:\n",
      "  %reload_ext autoreload\n"
     ]
    }
   ],
   "source": [
    "%load_ext autoreload\n",
    "%autoreload 2\n",
    "\n",
    "from scipy.optimize import curve_fit\n",
    "import matplotlib.pyplot as plt \n",
    "\n",
    "from ble import get_ble_controller\n",
    "from base_ble import LOG\n",
    "from cmd_types import CMD\n",
    "import time\n",
    "import numpy as np\n",
    "\n",
    "LOG.propagate = False"
   ]
  },
  {
   "cell_type": "code",
   "execution_count": 242,
   "id": "7381c6e1-c19b-42ed-8238-84afcbcceef2",
   "metadata": {},
   "outputs": [
    {
     "name": "stdout",
     "output_type": "stream",
     "text": [
      "2025-05-14 04:03:48,598 |\u001b[32m INFO     \u001b[0m|: info\n",
      "2025-05-14 04:03:48,599 |\u001b[33m WARNING  \u001b[0m|: warning\n",
      "2025-05-14 04:03:48,600 |\u001b[31m ERROR    \u001b[0m|: error\n",
      "2025-05-14 04:03:48,601 |\u001b[31m\u001b[47m\u001b[1m CRITICAL \u001b[0m|: critical\n"
     ]
    }
   ],
   "source": [
    "LOG.debug(\"debug\")\n",
    "LOG.info(\"info\")\n",
    "LOG.warning(\"warning\")\n",
    "LOG.error(\"error\")\n",
    "LOG.critical(\"critical\")"
   ]
  },
  {
   "cell_type": "code",
   "execution_count": 252,
   "id": "0e5e8a20-8439-4891-9c56-8115376598be",
   "metadata": {},
   "outputs": [
    {
     "name": "stdout",
     "output_type": "stream",
     "text": [
      "2025-05-14 04:15:35,249 |\u001b[32m INFO     \u001b[0m|: Looking for Artemis Nano Peripheral Device: c0:81:e4:22:02:64\n",
      "2025-05-14 04:15:38,817 |\u001b[32m INFO     \u001b[0m|: Connected to c0:81:e4:22:02:64\n"
     ]
    }
   ],
   "source": [
    "# Get ArtemisBLEController object\n",
    "ble = get_ble_controller()\n",
    "\n",
    "\n",
    "\n",
    "# Connect to the Artemis Device\n",
    "ble.connect()"
   ]
  },
  {
   "cell_type": "code",
   "execution_count": 253,
   "id": "259aeec0-8271-4e41-868b-14ff08650cc5",
   "metadata": {},
   "outputs": [
    {
     "name": "stdout",
     "output_type": "stream",
     "text": [
      "2025-05-14 04:17:26,371 |\u001b[32m INFO     \u001b[0m|: Disconnected from B9E76412-E4C0-18B7-0B21-A6BEFE645FB5\n"
     ]
    }
   ],
   "source": [
    "ble.send_command(CMD.NAVIGATION, \"\")"
   ]
  },
  {
   "cell_type": "code",
   "execution_count": null,
   "id": "fbe3f770-231b-4f00-b183-c13482c6ca2a",
   "metadata": {},
   "outputs": [],
   "source": [
    "ble.send_command(CMD.START_MAP, \"\")"
   ]
  },
  {
   "cell_type": "code",
   "execution_count": null,
   "id": "751bca12-8409-488f-99d4-7003caf5f4af",
   "metadata": {},
   "outputs": [],
   "source": []
  },
  {
   "cell_type": "code",
   "execution_count": null,
   "id": "68cf3112-e61f-4545-9452-7ad7e65210ff",
   "metadata": {},
   "outputs": [],
   "source": []
  }
 ],
 "metadata": {
  "kernelspec": {
   "display_name": "Python 3 (ipykernel)",
   "language": "python",
   "name": "python3"
  },
  "language_info": {
   "codemirror_mode": {
    "name": "ipython",
    "version": 3
   },
   "file_extension": ".py",
   "mimetype": "text/x-python",
   "name": "python",
   "nbconvert_exporter": "python",
   "pygments_lexer": "ipython3",
   "version": "3.11.12"
  }
 },
 "nbformat": 4,
 "nbformat_minor": 5
}
