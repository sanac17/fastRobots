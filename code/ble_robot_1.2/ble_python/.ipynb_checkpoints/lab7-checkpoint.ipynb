{
 "cells": [
  {
   "cell_type": "code",
   "execution_count": 45,
   "id": "ae3b6d5b-8b37-430f-9770-e1c27543e977",
   "metadata": {},
   "outputs": [
    {
     "name": "stdout",
     "output_type": "stream",
     "text": [
      "The autoreload extension is already loaded. To reload it, use:\n",
      "  %reload_ext autoreload\n"
     ]
    }
   ],
   "source": [
    "%load_ext autoreload\n",
    "%autoreload 2\n",
    "\n",
    "from scipy.optimize import curve_fit\n",
    "import matplotlib.pyplot as plt \n",
    "\n",
    "from ble import get_ble_controller\n",
    "from base_ble import LOG\n",
    "from cmd_types import CMD\n",
    "import time\n",
    "import numpy as np\n",
    "\n",
    "LOG.propagate = False"
   ]
  },
  {
   "cell_type": "code",
   "execution_count": 19,
   "id": "2501818f-3a12-494c-9dc2-dd4a7196c7a3",
   "metadata": {},
   "outputs": [
    {
     "name": "stdout",
     "output_type": "stream",
     "text": [
      "2025-05-05 23:10:30,190 |\u001b[32m INFO     \u001b[0m|: info\n",
      "2025-05-05 23:10:30,191 |\u001b[33m WARNING  \u001b[0m|: warning\n",
      "2025-05-05 23:10:30,192 |\u001b[31m ERROR    \u001b[0m|: error\n",
      "2025-05-05 23:10:30,193 |\u001b[31m\u001b[47m\u001b[1m CRITICAL \u001b[0m|: critical\n"
     ]
    }
   ],
   "source": [
    "LOG.debug(\"debug\")\n",
    "LOG.info(\"info\")\n",
    "LOG.warning(\"warning\")\n",
    "LOG.error(\"error\")\n",
    "LOG.critical(\"critical\")"
   ]
  },
  {
   "cell_type": "code",
   "execution_count": 77,
   "id": "3c2dfe7a-a795-4bfa-9d00-4ad09ca0edee",
   "metadata": {},
   "outputs": [
    {
     "name": "stdout",
     "output_type": "stream",
     "text": [
      "2025-05-06 11:08:08,591 |\u001b[32m INFO     \u001b[0m|: Already connected to a BLE device\n"
     ]
    }
   ],
   "source": [
    "# Get ArtemisBLEController object\n",
    "ble = get_ble_controller()\n",
    "\n",
    "\n",
    "# Connect to the Artemis Device\n",
    "ble.connect()"
   ]
  },
  {
   "cell_type": "code",
   "execution_count": 7,
   "id": "28a0d635-9ddf-4661-8efa-7f30987d0950",
   "metadata": {},
   "outputs": [],
   "source": [
    "ble.send_command(CMD.PING, \"\")"
   ]
  },
  {
   "cell_type": "code",
   "execution_count": 8,
   "id": "80ee8db0-495f-4111-a7a3-7fbc7f348390",
   "metadata": {
    "collapsed": true,
    "jupyter": {
     "outputs_hidden": true
    }
   },
   "outputs": [
    {
     "ename": "BleakError",
     "evalue": "Failed to read characteristic 14: Error Domain=CBATTErrorDomain Code=7 \"The offset is invalid.\" UserInfo={NSLocalizedDescription=The offset is invalid.}",
     "output_type": "error",
     "traceback": [
      "\u001b[0;31m---------------------------------------------------------------------------\u001b[0m",
      "\u001b[0;31mBleakError\u001b[0m                                Traceback (most recent call last)",
      "Cell \u001b[0;32mIn[8], line 1\u001b[0m\n\u001b[0;32m----> 1\u001b[0m s \u001b[38;5;241m=\u001b[39m \u001b[43mble\u001b[49m\u001b[38;5;241;43m.\u001b[39;49m\u001b[43mreceive_string\u001b[49m\u001b[43m(\u001b[49m\u001b[43mble\u001b[49m\u001b[38;5;241;43m.\u001b[39;49m\u001b[43muuid\u001b[49m\u001b[43m[\u001b[49m\u001b[38;5;124;43m'\u001b[39;49m\u001b[38;5;124;43mRX_STRING\u001b[39;49m\u001b[38;5;124;43m'\u001b[39;49m\u001b[43m]\u001b[49m\u001b[43m)\u001b[49m\n\u001b[1;32m      2\u001b[0m \u001b[38;5;28mprint\u001b[39m(s)\n",
      "File \u001b[0;32m~/Desktop/FastRobots/ble_robot_1.2/ble_python/ble.py:152\u001b[0m, in \u001b[0;36mArtemisBLEController.receive_string\u001b[0;34m(self, uuid)\u001b[0m\n\u001b[1;32m    151\u001b[0m \u001b[38;5;28;01mdef\u001b[39;00m\u001b[38;5;250m \u001b[39m\u001b[38;5;21mreceive_string\u001b[39m(\u001b[38;5;28mself\u001b[39m, uuid):\n\u001b[0;32m--> 152\u001b[0m     \u001b[38;5;28;01mreturn\u001b[39;00m \u001b[38;5;28mself\u001b[39m\u001b[38;5;241m.\u001b[39mbytearray_to_string(\u001b[38;5;28;43mself\u001b[39;49m\u001b[38;5;241;43m.\u001b[39;49m\u001b[43mread\u001b[49m\u001b[43m(\u001b[49m\u001b[43muuid\u001b[49m\u001b[43m)\u001b[49m)\n",
      "File \u001b[0;32m~/Desktop/FastRobots/ble_robot_1.2/ble_python/ble.py:78\u001b[0m, in \u001b[0;36mBaseBLEController.read\u001b[0;34m(self, uuid)\u001b[0m\n\u001b[1;32m     77\u001b[0m \u001b[38;5;28;01mdef\u001b[39;00m\u001b[38;5;250m \u001b[39m\u001b[38;5;21mread\u001b[39m(\u001b[38;5;28mself\u001b[39m, uuid):\n\u001b[0;32m---> 78\u001b[0m     \u001b[38;5;28;01mreturn\u001b[39;00m \u001b[38;5;28;43mself\u001b[39;49m\u001b[38;5;241;43m.\u001b[39;49m\u001b[43m_wait\u001b[49m\u001b[43m(\u001b[49m\u001b[38;5;28;43mself\u001b[39;49m\u001b[38;5;241;43m.\u001b[39;49m\u001b[43mdevice\u001b[49m\u001b[38;5;241;43m.\u001b[39;49m\u001b[43m_read\u001b[49m\u001b[43m(\u001b[49m\u001b[43muuid\u001b[49m\u001b[43m)\u001b[49m\u001b[43m)\u001b[49m\n",
      "File \u001b[0;32m~/Desktop/FastRobots/ble_robot_1.2/ble_python/base_ble.py:27\u001b[0m, in \u001b[0;36mwait_b\u001b[0;34m(coroutine)\u001b[0m\n\u001b[1;32m     26\u001b[0m \u001b[38;5;28;01mdef\u001b[39;00m\u001b[38;5;250m \u001b[39m\u001b[38;5;21mwait_b\u001b[39m(coroutine):\n\u001b[0;32m---> 27\u001b[0m     \u001b[38;5;28;01mreturn\u001b[39;00m \u001b[43masyncio\u001b[49m\u001b[38;5;241;43m.\u001b[39;49m\u001b[43mrun\u001b[49m\u001b[43m(\u001b[49m\u001b[43mcoroutine\u001b[49m\u001b[43m)\u001b[49m\n",
      "File \u001b[0;32m~/Desktop/FastRobots/FastRobots_ble/lib/python3.11/site-packages/nest_asyncio.py:30\u001b[0m, in \u001b[0;36m_patch_asyncio.<locals>.run\u001b[0;34m(main, debug)\u001b[0m\n\u001b[1;32m     28\u001b[0m task \u001b[38;5;241m=\u001b[39m asyncio\u001b[38;5;241m.\u001b[39mensure_future(main)\n\u001b[1;32m     29\u001b[0m \u001b[38;5;28;01mtry\u001b[39;00m:\n\u001b[0;32m---> 30\u001b[0m     \u001b[38;5;28;01mreturn\u001b[39;00m \u001b[43mloop\u001b[49m\u001b[38;5;241;43m.\u001b[39;49m\u001b[43mrun_until_complete\u001b[49m\u001b[43m(\u001b[49m\u001b[43mtask\u001b[49m\u001b[43m)\u001b[49m\n\u001b[1;32m     31\u001b[0m \u001b[38;5;28;01mfinally\u001b[39;00m:\n\u001b[1;32m     32\u001b[0m     \u001b[38;5;28;01mif\u001b[39;00m \u001b[38;5;129;01mnot\u001b[39;00m task\u001b[38;5;241m.\u001b[39mdone():\n",
      "File \u001b[0;32m~/Desktop/FastRobots/FastRobots_ble/lib/python3.11/site-packages/nest_asyncio.py:98\u001b[0m, in \u001b[0;36m_patch_loop.<locals>.run_until_complete\u001b[0;34m(self, future)\u001b[0m\n\u001b[1;32m     95\u001b[0m \u001b[38;5;28;01mif\u001b[39;00m \u001b[38;5;129;01mnot\u001b[39;00m f\u001b[38;5;241m.\u001b[39mdone():\n\u001b[1;32m     96\u001b[0m     \u001b[38;5;28;01mraise\u001b[39;00m \u001b[38;5;167;01mRuntimeError\u001b[39;00m(\n\u001b[1;32m     97\u001b[0m         \u001b[38;5;124m'\u001b[39m\u001b[38;5;124mEvent loop stopped before Future completed.\u001b[39m\u001b[38;5;124m'\u001b[39m)\n\u001b[0;32m---> 98\u001b[0m \u001b[38;5;28;01mreturn\u001b[39;00m \u001b[43mf\u001b[49m\u001b[38;5;241;43m.\u001b[39;49m\u001b[43mresult\u001b[49m\u001b[43m(\u001b[49m\u001b[43m)\u001b[49m\n",
      "File \u001b[0;32m/opt/homebrew/Cellar/python@3.11/3.11.12/Frameworks/Python.framework/Versions/3.11/lib/python3.11/asyncio/futures.py:203\u001b[0m, in \u001b[0;36mFuture.result\u001b[0;34m(self)\u001b[0m\n\u001b[1;32m    201\u001b[0m \u001b[38;5;28mself\u001b[39m\u001b[38;5;241m.\u001b[39m__log_traceback \u001b[38;5;241m=\u001b[39m \u001b[38;5;28;01mFalse\u001b[39;00m\n\u001b[1;32m    202\u001b[0m \u001b[38;5;28;01mif\u001b[39;00m \u001b[38;5;28mself\u001b[39m\u001b[38;5;241m.\u001b[39m_exception \u001b[38;5;129;01mis\u001b[39;00m \u001b[38;5;129;01mnot\u001b[39;00m \u001b[38;5;28;01mNone\u001b[39;00m:\n\u001b[0;32m--> 203\u001b[0m     \u001b[38;5;28;01mraise\u001b[39;00m \u001b[38;5;28mself\u001b[39m\u001b[38;5;241m.\u001b[39m_exception\u001b[38;5;241m.\u001b[39mwith_traceback(\u001b[38;5;28mself\u001b[39m\u001b[38;5;241m.\u001b[39m_exception_tb)\n\u001b[1;32m    204\u001b[0m \u001b[38;5;28;01mreturn\u001b[39;00m \u001b[38;5;28mself\u001b[39m\u001b[38;5;241m.\u001b[39m_result\n",
      "File \u001b[0;32m/opt/homebrew/Cellar/python@3.11/3.11.12/Frameworks/Python.framework/Versions/3.11/lib/python3.11/asyncio/tasks.py:279\u001b[0m, in \u001b[0;36mTask.__step\u001b[0;34m(***failed resolving arguments***)\u001b[0m\n\u001b[1;32m    277\u001b[0m         result \u001b[38;5;241m=\u001b[39m coro\u001b[38;5;241m.\u001b[39msend(\u001b[38;5;28;01mNone\u001b[39;00m)\n\u001b[1;32m    278\u001b[0m     \u001b[38;5;28;01melse\u001b[39;00m:\n\u001b[0;32m--> 279\u001b[0m         result \u001b[38;5;241m=\u001b[39m coro\u001b[38;5;241m.\u001b[39mthrow(exc)\n\u001b[1;32m    280\u001b[0m \u001b[38;5;28;01mexcept\u001b[39;00m \u001b[38;5;167;01mStopIteration\u001b[39;00m \u001b[38;5;28;01mas\u001b[39;00m exc:\n\u001b[1;32m    281\u001b[0m     \u001b[38;5;28;01mif\u001b[39;00m \u001b[38;5;28mself\u001b[39m\u001b[38;5;241m.\u001b[39m_must_cancel:\n\u001b[1;32m    282\u001b[0m         \u001b[38;5;66;03m# Task is cancelled right before coro stops.\u001b[39;00m\n",
      "File \u001b[0;32m~/Desktop/FastRobots/ble_robot_1.2/ble_python/base_ble.py:123\u001b[0m, in \u001b[0;36mBLEAsyncDevice._read\u001b[0;34m(self, uuid)\u001b[0m\n\u001b[1;32m    121\u001b[0m \u001b[38;5;28;01masync\u001b[39;00m \u001b[38;5;28;01mdef\u001b[39;00m\u001b[38;5;250m \u001b[39m\u001b[38;5;21m_read\u001b[39m(\u001b[38;5;28mself\u001b[39m, uuid):\n\u001b[1;32m    122\u001b[0m     \u001b[38;5;28;01mif\u001b[39;00m \u001b[38;5;28mself\u001b[39m\u001b[38;5;241m.\u001b[39mclient \u001b[38;5;129;01mand\u001b[39;00m \u001b[38;5;28mself\u001b[39m\u001b[38;5;241m.\u001b[39mclient\u001b[38;5;241m.\u001b[39mis_connected:\n\u001b[0;32m--> 123\u001b[0m         \u001b[38;5;28;01mreturn\u001b[39;00m \u001b[38;5;28;01mawait\u001b[39;00m \u001b[38;5;28mself\u001b[39m\u001b[38;5;241m.\u001b[39mclient\u001b[38;5;241m.\u001b[39mread_gatt_char(uuid)\n\u001b[1;32m    124\u001b[0m     \u001b[38;5;28;01melse\u001b[39;00m:\n\u001b[1;32m    125\u001b[0m         \u001b[38;5;28;01mraise\u001b[39;00m \u001b[38;5;167;01mException\u001b[39;00m(\u001b[38;5;124m\"\u001b[39m\u001b[38;5;124mNot connected to a BLE device\u001b[39m\u001b[38;5;124m\"\u001b[39m)\n",
      "File \u001b[0;32m~/Desktop/FastRobots/FastRobots_ble/lib/python3.11/site-packages/bleak/__init__.py:721\u001b[0m, in \u001b[0;36mBleakClient.read_gatt_char\u001b[0;34m(self, char_specifier, **kwargs)\u001b[0m\n\u001b[1;32m    703\u001b[0m \u001b[38;5;28;01masync\u001b[39;00m \u001b[38;5;28;01mdef\u001b[39;00m\u001b[38;5;250m \u001b[39m\u001b[38;5;21mread_gatt_char\u001b[39m(\n\u001b[1;32m    704\u001b[0m     \u001b[38;5;28mself\u001b[39m,\n\u001b[1;32m    705\u001b[0m     char_specifier: Union[BleakGATTCharacteristic, \u001b[38;5;28mint\u001b[39m, \u001b[38;5;28mstr\u001b[39m, uuid\u001b[38;5;241m.\u001b[39mUUID],\n\u001b[1;32m    706\u001b[0m     \u001b[38;5;241m*\u001b[39m\u001b[38;5;241m*\u001b[39mkwargs,\n\u001b[1;32m    707\u001b[0m ) \u001b[38;5;241m-\u001b[39m\u001b[38;5;241m>\u001b[39m \u001b[38;5;28mbytearray\u001b[39m:\n\u001b[1;32m    708\u001b[0m \u001b[38;5;250m    \u001b[39m\u001b[38;5;124;03m\"\"\"\u001b[39;00m\n\u001b[1;32m    709\u001b[0m \u001b[38;5;124;03m    Perform read operation on the specified GATT characteristic.\u001b[39;00m\n\u001b[1;32m    710\u001b[0m \n\u001b[0;32m   (...)\u001b[0m\n\u001b[1;32m    719\u001b[0m \n\u001b[1;32m    720\u001b[0m \u001b[38;5;124;03m    \"\"\"\u001b[39;00m\n\u001b[0;32m--> 721\u001b[0m     \u001b[38;5;28;01mreturn\u001b[39;00m \u001b[38;5;28;01mawait\u001b[39;00m \u001b[38;5;28mself\u001b[39m\u001b[38;5;241m.\u001b[39m_backend\u001b[38;5;241m.\u001b[39mread_gatt_char(char_specifier, \u001b[38;5;241m*\u001b[39m\u001b[38;5;241m*\u001b[39mkwargs)\n",
      "File \u001b[0;32m~/Desktop/FastRobots/FastRobots_ble/lib/python3.11/site-packages/bleak/backends/corebluetooth/client.py:283\u001b[0m, in \u001b[0;36mBleakClientCoreBluetooth.read_gatt_char\u001b[0;34m(self, char_specifier, use_cached, **kwargs)\u001b[0m\n\u001b[1;32m    280\u001b[0m \u001b[38;5;28;01mif\u001b[39;00m \u001b[38;5;129;01mnot\u001b[39;00m characteristic:\n\u001b[1;32m    281\u001b[0m     \u001b[38;5;28;01mraise\u001b[39;00m BleakCharacteristicNotFoundError(char_specifier)\n\u001b[0;32m--> 283\u001b[0m output \u001b[38;5;241m=\u001b[39m \u001b[38;5;28;01mawait\u001b[39;00m \u001b[38;5;28mself\u001b[39m\u001b[38;5;241m.\u001b[39m_delegate\u001b[38;5;241m.\u001b[39mread_characteristic(\n\u001b[1;32m    284\u001b[0m     characteristic\u001b[38;5;241m.\u001b[39mobj, use_cached\u001b[38;5;241m=\u001b[39muse_cached\n\u001b[1;32m    285\u001b[0m )\n\u001b[1;32m    286\u001b[0m value \u001b[38;5;241m=\u001b[39m \u001b[38;5;28mbytearray\u001b[39m(output)\n\u001b[1;32m    287\u001b[0m logger\u001b[38;5;241m.\u001b[39mdebug(\u001b[38;5;124m\"\u001b[39m\u001b[38;5;124mRead Characteristic \u001b[39m\u001b[38;5;132;01m{0}\u001b[39;00m\u001b[38;5;124m : \u001b[39m\u001b[38;5;132;01m{1}\u001b[39;00m\u001b[38;5;124m\"\u001b[39m\u001b[38;5;241m.\u001b[39mformat(characteristic\u001b[38;5;241m.\u001b[39muuid, value))\n",
      "File \u001b[0;32m~/Desktop/FastRobots/FastRobots_ble/lib/python3.11/site-packages/bleak/backends/corebluetooth/PeripheralDelegate.py:159\u001b[0m, in \u001b[0;36mPeripheralDelegate.read_characteristic\u001b[0;34m(self, characteristic, use_cached, timeout)\u001b[0m\n\u001b[1;32m    157\u001b[0m     \u001b[38;5;28mself\u001b[39m\u001b[38;5;241m.\u001b[39mperipheral\u001b[38;5;241m.\u001b[39mreadValueForCharacteristic_(characteristic)\n\u001b[1;32m    158\u001b[0m     \u001b[38;5;28;01masync\u001b[39;00m \u001b[38;5;28;01mwith\u001b[39;00m async_timeout(timeout):\n\u001b[0;32m--> 159\u001b[0m         \u001b[38;5;28;01mreturn\u001b[39;00m \u001b[38;5;28;01mawait\u001b[39;00m future\n\u001b[1;32m    160\u001b[0m \u001b[38;5;28;01mfinally\u001b[39;00m:\n\u001b[1;32m    161\u001b[0m     \u001b[38;5;28;01mdel\u001b[39;00m \u001b[38;5;28mself\u001b[39m\u001b[38;5;241m.\u001b[39m_characteristic_read_futures[characteristic\u001b[38;5;241m.\u001b[39mhandle()]\n",
      "File \u001b[0;32m/opt/homebrew/Cellar/python@3.11/3.11.12/Frameworks/Python.framework/Versions/3.11/lib/python3.11/asyncio/futures.py:287\u001b[0m, in \u001b[0;36mFuture.__await__\u001b[0;34m(self)\u001b[0m\n\u001b[1;32m    285\u001b[0m \u001b[38;5;28;01mif\u001b[39;00m \u001b[38;5;129;01mnot\u001b[39;00m \u001b[38;5;28mself\u001b[39m\u001b[38;5;241m.\u001b[39mdone():\n\u001b[1;32m    286\u001b[0m     \u001b[38;5;28mself\u001b[39m\u001b[38;5;241m.\u001b[39m_asyncio_future_blocking \u001b[38;5;241m=\u001b[39m \u001b[38;5;28;01mTrue\u001b[39;00m\n\u001b[0;32m--> 287\u001b[0m     \u001b[38;5;28;01myield\u001b[39;00m \u001b[38;5;28mself\u001b[39m  \u001b[38;5;66;03m# This tells Task to wait for completion.\u001b[39;00m\n\u001b[1;32m    288\u001b[0m \u001b[38;5;28;01mif\u001b[39;00m \u001b[38;5;129;01mnot\u001b[39;00m \u001b[38;5;28mself\u001b[39m\u001b[38;5;241m.\u001b[39mdone():\n\u001b[1;32m    289\u001b[0m     \u001b[38;5;28;01mraise\u001b[39;00m \u001b[38;5;167;01mRuntimeError\u001b[39;00m(\u001b[38;5;124m\"\u001b[39m\u001b[38;5;124mawait wasn\u001b[39m\u001b[38;5;124m'\u001b[39m\u001b[38;5;124mt used with future\u001b[39m\u001b[38;5;124m\"\u001b[39m)\n",
      "File \u001b[0;32m/opt/homebrew/Cellar/python@3.11/3.11.12/Frameworks/Python.framework/Versions/3.11/lib/python3.11/asyncio/tasks.py:349\u001b[0m, in \u001b[0;36mTask.__wakeup\u001b[0;34m(self, future)\u001b[0m\n\u001b[1;32m    347\u001b[0m \u001b[38;5;28;01mdef\u001b[39;00m\u001b[38;5;250m \u001b[39m\u001b[38;5;21m__wakeup\u001b[39m(\u001b[38;5;28mself\u001b[39m, future):\n\u001b[1;32m    348\u001b[0m     \u001b[38;5;28;01mtry\u001b[39;00m:\n\u001b[0;32m--> 349\u001b[0m         \u001b[43mfuture\u001b[49m\u001b[38;5;241;43m.\u001b[39;49m\u001b[43mresult\u001b[49m\u001b[43m(\u001b[49m\u001b[43m)\u001b[49m\n\u001b[1;32m    350\u001b[0m     \u001b[38;5;28;01mexcept\u001b[39;00m \u001b[38;5;167;01mBaseException\u001b[39;00m \u001b[38;5;28;01mas\u001b[39;00m exc:\n\u001b[1;32m    351\u001b[0m         \u001b[38;5;66;03m# This may also be a cancellation.\u001b[39;00m\n\u001b[1;32m    352\u001b[0m         \u001b[38;5;28mself\u001b[39m\u001b[38;5;241m.\u001b[39m__step(exc)\n",
      "File \u001b[0;32m/opt/homebrew/Cellar/python@3.11/3.11.12/Frameworks/Python.framework/Versions/3.11/lib/python3.11/asyncio/futures.py:203\u001b[0m, in \u001b[0;36mFuture.result\u001b[0;34m(self)\u001b[0m\n\u001b[1;32m    201\u001b[0m \u001b[38;5;28mself\u001b[39m\u001b[38;5;241m.\u001b[39m__log_traceback \u001b[38;5;241m=\u001b[39m \u001b[38;5;28;01mFalse\u001b[39;00m\n\u001b[1;32m    202\u001b[0m \u001b[38;5;28;01mif\u001b[39;00m \u001b[38;5;28mself\u001b[39m\u001b[38;5;241m.\u001b[39m_exception \u001b[38;5;129;01mis\u001b[39;00m \u001b[38;5;129;01mnot\u001b[39;00m \u001b[38;5;28;01mNone\u001b[39;00m:\n\u001b[0;32m--> 203\u001b[0m     \u001b[38;5;28;01mraise\u001b[39;00m \u001b[38;5;28mself\u001b[39m\u001b[38;5;241m.\u001b[39m_exception\u001b[38;5;241m.\u001b[39mwith_traceback(\u001b[38;5;28mself\u001b[39m\u001b[38;5;241m.\u001b[39m_exception_tb)\n\u001b[1;32m    204\u001b[0m \u001b[38;5;28;01mreturn\u001b[39;00m \u001b[38;5;28mself\u001b[39m\u001b[38;5;241m.\u001b[39m_result\n",
      "\u001b[0;31mBleakError\u001b[0m: Failed to read characteristic 14: Error Domain=CBATTErrorDomain Code=7 \"The offset is invalid.\" UserInfo={NSLocalizedDescription=The offset is invalid.}"
     ]
    },
    {
     "name": "stdout",
     "output_type": "stream",
     "text": [
      "2025-05-05 23:06:01,124 |\u001b[32m INFO     \u001b[0m|: Disconnected from B9E76412-E4C0-18B7-0B21-A6BEFE645FB5\n"
     ]
    }
   ],
   "source": [
    "s = ble.receive_string(ble.uuid['RX_STRING'])\n",
    "print(s)"
   ]
  },
  {
   "cell_type": "code",
   "execution_count": 103,
   "id": "70c9e0c5-1bcc-4509-82d4-fcb620b9f368",
   "metadata": {},
   "outputs": [],
   "source": [
    "ble.send_command(CMD.GET_TOF_DATA, \"\")"
   ]
  },
  {
   "cell_type": "markdown",
   "id": "3f5e4d9c-a8d4-4269-9931-89a270809f14",
   "metadata": {},
   "source": [
    "<h4>Stunt code</h4>"
   ]
  },
  {
   "cell_type": "code",
   "execution_count": 25,
   "id": "fc2b0933-845d-424b-99e8-bf3821cc9e40",
   "metadata": {},
   "outputs": [],
   "source": [
    "data = \"\"\n",
    "timeArr_for = []\n",
    "tof_pid_for = [] \n",
    "timeArr_back = []\n",
    "tof_pid_back = [] \n",
    "\n",
    "def notification_handler_stunt(uuid, array): \n",
    "    global timeArr\n",
    "    global tof_pid\n",
    "\n",
    "    s = ble.bytearray_to_string(array)\n",
    "    data = s\n",
    "    if \"*\" in data: \n",
    "        arr = s.split(\"*\")\n",
    "        timeArr_for.append(float(arr[0]))\n",
    "        tof_pid_for.append(float(arr[1]))\n",
    "        timeArr_back.append(float(arr[2]))\n",
    "        tof_pid_back.append(float(arr[3]))\n",
    "        "
   ]
  },
  {
   "cell_type": "code",
   "execution_count": 79,
   "id": "95d9dcd1-5902-4a2a-b4c3-660c961e2a09",
   "metadata": {},
   "outputs": [
    {
     "name": "stdout",
     "output_type": "stream",
     "text": [
      "2025-05-06 11:09:04,857 |\u001b[32m INFO     \u001b[0m|: Disconnected from B9E76412-E4C0-18B7-0B21-A6BEFE645FB5\n"
     ]
    }
   ],
   "source": [
    "# ble.start_notify(ble.uuid['RX_STRING'], notification_handler_stunt)\n",
    "ble.send_command(CMD.STUNT, \"\")"
   ]
  },
  {
   "cell_type": "code",
   "execution_count": 80,
   "id": "0c8f2731-e4da-4258-947f-22846b478c9b",
   "metadata": {},
   "outputs": [
    {
     "name": "stdout",
     "output_type": "stream",
     "text": [
      "0\n"
     ]
    }
   ],
   "source": [
    "print(len(timeArr_for))"
   ]
  },
  {
   "cell_type": "code",
   "execution_count": 76,
   "id": "806c7df9-c075-4427-8600-74c557fb2872",
   "metadata": {},
   "outputs": [
    {
     "ename": "ValueError",
     "evalue": "Characteristic notification never started",
     "output_type": "error",
     "traceback": [
      "\u001b[0;31m---------------------------------------------------------------------------\u001b[0m",
      "\u001b[0;31mValueError\u001b[0m                                Traceback (most recent call last)",
      "Cell \u001b[0;32mIn[76], line 1\u001b[0m\n\u001b[0;32m----> 1\u001b[0m \u001b[43mble\u001b[49m\u001b[38;5;241;43m.\u001b[39;49m\u001b[43mstop_notify\u001b[49m\u001b[43m(\u001b[49m\u001b[43mble\u001b[49m\u001b[38;5;241;43m.\u001b[39;49m\u001b[43muuid\u001b[49m\u001b[43m[\u001b[49m\u001b[38;5;124;43m'\u001b[39;49m\u001b[38;5;124;43mRX_STRING\u001b[39;49m\u001b[38;5;124;43m'\u001b[39;49m\u001b[43m]\u001b[49m\u001b[43m)\u001b[49m\n",
      "File \u001b[0;32m~/Desktop/FastRobots/ble_robot_1.2/ble_python/ble.py:84\u001b[0m, in \u001b[0;36mBaseBLEController.stop_notify\u001b[0;34m(self, uuid)\u001b[0m\n\u001b[1;32m     83\u001b[0m \u001b[38;5;28;01mdef\u001b[39;00m\u001b[38;5;250m \u001b[39m\u001b[38;5;21mstop_notify\u001b[39m(\u001b[38;5;28mself\u001b[39m, uuid):\n\u001b[0;32m---> 84\u001b[0m     \u001b[38;5;28;43mself\u001b[39;49m\u001b[38;5;241;43m.\u001b[39;49m\u001b[43m_wait\u001b[49m\u001b[43m(\u001b[49m\u001b[38;5;28;43mself\u001b[39;49m\u001b[38;5;241;43m.\u001b[39;49m\u001b[43mdevice\u001b[49m\u001b[38;5;241;43m.\u001b[39;49m\u001b[43m_stop_notify\u001b[49m\u001b[43m(\u001b[49m\u001b[43muuid\u001b[49m\u001b[43m)\u001b[49m\u001b[43m)\u001b[49m\n",
      "File \u001b[0;32m~/Desktop/FastRobots/ble_robot_1.2/ble_python/base_ble.py:27\u001b[0m, in \u001b[0;36mwait_b\u001b[0;34m(coroutine)\u001b[0m\n\u001b[1;32m     26\u001b[0m \u001b[38;5;28;01mdef\u001b[39;00m\u001b[38;5;250m \u001b[39m\u001b[38;5;21mwait_b\u001b[39m(coroutine):\n\u001b[0;32m---> 27\u001b[0m     \u001b[38;5;28;01mreturn\u001b[39;00m \u001b[43masyncio\u001b[49m\u001b[38;5;241;43m.\u001b[39;49m\u001b[43mrun\u001b[49m\u001b[43m(\u001b[49m\u001b[43mcoroutine\u001b[49m\u001b[43m)\u001b[49m\n",
      "File \u001b[0;32m~/Desktop/FastRobots/FastRobots_ble/lib/python3.11/site-packages/nest_asyncio.py:30\u001b[0m, in \u001b[0;36m_patch_asyncio.<locals>.run\u001b[0;34m(main, debug)\u001b[0m\n\u001b[1;32m     28\u001b[0m task \u001b[38;5;241m=\u001b[39m asyncio\u001b[38;5;241m.\u001b[39mensure_future(main)\n\u001b[1;32m     29\u001b[0m \u001b[38;5;28;01mtry\u001b[39;00m:\n\u001b[0;32m---> 30\u001b[0m     \u001b[38;5;28;01mreturn\u001b[39;00m \u001b[43mloop\u001b[49m\u001b[38;5;241;43m.\u001b[39;49m\u001b[43mrun_until_complete\u001b[49m\u001b[43m(\u001b[49m\u001b[43mtask\u001b[49m\u001b[43m)\u001b[49m\n\u001b[1;32m     31\u001b[0m \u001b[38;5;28;01mfinally\u001b[39;00m:\n\u001b[1;32m     32\u001b[0m     \u001b[38;5;28;01mif\u001b[39;00m \u001b[38;5;129;01mnot\u001b[39;00m task\u001b[38;5;241m.\u001b[39mdone():\n",
      "File \u001b[0;32m~/Desktop/FastRobots/FastRobots_ble/lib/python3.11/site-packages/nest_asyncio.py:98\u001b[0m, in \u001b[0;36m_patch_loop.<locals>.run_until_complete\u001b[0;34m(self, future)\u001b[0m\n\u001b[1;32m     95\u001b[0m \u001b[38;5;28;01mif\u001b[39;00m \u001b[38;5;129;01mnot\u001b[39;00m f\u001b[38;5;241m.\u001b[39mdone():\n\u001b[1;32m     96\u001b[0m     \u001b[38;5;28;01mraise\u001b[39;00m \u001b[38;5;167;01mRuntimeError\u001b[39;00m(\n\u001b[1;32m     97\u001b[0m         \u001b[38;5;124m'\u001b[39m\u001b[38;5;124mEvent loop stopped before Future completed.\u001b[39m\u001b[38;5;124m'\u001b[39m)\n\u001b[0;32m---> 98\u001b[0m \u001b[38;5;28;01mreturn\u001b[39;00m \u001b[43mf\u001b[49m\u001b[38;5;241;43m.\u001b[39;49m\u001b[43mresult\u001b[49m\u001b[43m(\u001b[49m\u001b[43m)\u001b[49m\n",
      "File \u001b[0;32m/opt/homebrew/Cellar/python@3.11/3.11.12/Frameworks/Python.framework/Versions/3.11/lib/python3.11/asyncio/futures.py:203\u001b[0m, in \u001b[0;36mFuture.result\u001b[0;34m(self)\u001b[0m\n\u001b[1;32m    201\u001b[0m \u001b[38;5;28mself\u001b[39m\u001b[38;5;241m.\u001b[39m__log_traceback \u001b[38;5;241m=\u001b[39m \u001b[38;5;28;01mFalse\u001b[39;00m\n\u001b[1;32m    202\u001b[0m \u001b[38;5;28;01mif\u001b[39;00m \u001b[38;5;28mself\u001b[39m\u001b[38;5;241m.\u001b[39m_exception \u001b[38;5;129;01mis\u001b[39;00m \u001b[38;5;129;01mnot\u001b[39;00m \u001b[38;5;28;01mNone\u001b[39;00m:\n\u001b[0;32m--> 203\u001b[0m     \u001b[38;5;28;01mraise\u001b[39;00m \u001b[38;5;28mself\u001b[39m\u001b[38;5;241m.\u001b[39m_exception\u001b[38;5;241m.\u001b[39mwith_traceback(\u001b[38;5;28mself\u001b[39m\u001b[38;5;241m.\u001b[39m_exception_tb)\n\u001b[1;32m    204\u001b[0m \u001b[38;5;28;01mreturn\u001b[39;00m \u001b[38;5;28mself\u001b[39m\u001b[38;5;241m.\u001b[39m_result\n",
      "File \u001b[0;32m/opt/homebrew/Cellar/python@3.11/3.11.12/Frameworks/Python.framework/Versions/3.11/lib/python3.11/asyncio/tasks.py:277\u001b[0m, in \u001b[0;36mTask.__step\u001b[0;34m(***failed resolving arguments***)\u001b[0m\n\u001b[1;32m    273\u001b[0m \u001b[38;5;28;01mtry\u001b[39;00m:\n\u001b[1;32m    274\u001b[0m     \u001b[38;5;28;01mif\u001b[39;00m exc \u001b[38;5;129;01mis\u001b[39;00m \u001b[38;5;28;01mNone\u001b[39;00m:\n\u001b[1;32m    275\u001b[0m         \u001b[38;5;66;03m# We use the `send` method directly, because coroutines\u001b[39;00m\n\u001b[1;32m    276\u001b[0m         \u001b[38;5;66;03m# don't have `__iter__` and `__next__` methods.\u001b[39;00m\n\u001b[0;32m--> 277\u001b[0m         result \u001b[38;5;241m=\u001b[39m coro\u001b[38;5;241m.\u001b[39msend(\u001b[38;5;28;01mNone\u001b[39;00m)\n\u001b[1;32m    278\u001b[0m     \u001b[38;5;28;01melse\u001b[39;00m:\n\u001b[1;32m    279\u001b[0m         result \u001b[38;5;241m=\u001b[39m coro\u001b[38;5;241m.\u001b[39mthrow(exc)\n",
      "File \u001b[0;32m~/Desktop/FastRobots/ble_robot_1.2/ble_python/base_ble.py:135\u001b[0m, in \u001b[0;36mBLEAsyncDevice._stop_notify\u001b[0;34m(self, uuid)\u001b[0m\n\u001b[1;32m    133\u001b[0m \u001b[38;5;28;01masync\u001b[39;00m \u001b[38;5;28;01mdef\u001b[39;00m\u001b[38;5;250m \u001b[39m\u001b[38;5;21m_stop_notify\u001b[39m(\u001b[38;5;28mself\u001b[39m, uuid):\n\u001b[1;32m    134\u001b[0m     \u001b[38;5;28;01mif\u001b[39;00m \u001b[38;5;28mself\u001b[39m\u001b[38;5;241m.\u001b[39mclient \u001b[38;5;129;01mand\u001b[39;00m \u001b[38;5;28mself\u001b[39m\u001b[38;5;241m.\u001b[39mclient\u001b[38;5;241m.\u001b[39mis_connected:\n\u001b[0;32m--> 135\u001b[0m         \u001b[38;5;28;01mawait\u001b[39;00m \u001b[38;5;28mself\u001b[39m\u001b[38;5;241m.\u001b[39mclient\u001b[38;5;241m.\u001b[39mstop_notify(uuid)\n\u001b[1;32m    136\u001b[0m     \u001b[38;5;28;01melse\u001b[39;00m:\n\u001b[1;32m    137\u001b[0m         \u001b[38;5;28;01mraise\u001b[39;00m \u001b[38;5;167;01mException\u001b[39;00m(\u001b[38;5;124m\"\u001b[39m\u001b[38;5;124mNot connected to a BLE device\u001b[39m\u001b[38;5;124m\"\u001b[39m)\n",
      "File \u001b[0;32m~/Desktop/FastRobots/FastRobots_ble/lib/python3.11/site-packages/bleak/__init__.py:862\u001b[0m, in \u001b[0;36mBleakClient.stop_notify\u001b[0;34m(self, char_specifier)\u001b[0m\n\u001b[1;32m    846\u001b[0m \u001b[38;5;28;01masync\u001b[39;00m \u001b[38;5;28;01mdef\u001b[39;00m\u001b[38;5;250m \u001b[39m\u001b[38;5;21mstop_notify\u001b[39m(\n\u001b[1;32m    847\u001b[0m     \u001b[38;5;28mself\u001b[39m, char_specifier: Union[BleakGATTCharacteristic, \u001b[38;5;28mint\u001b[39m, \u001b[38;5;28mstr\u001b[39m, uuid\u001b[38;5;241m.\u001b[39mUUID]\n\u001b[1;32m    848\u001b[0m ) \u001b[38;5;241m-\u001b[39m\u001b[38;5;241m>\u001b[39m \u001b[38;5;28;01mNone\u001b[39;00m:\n\u001b[1;32m    849\u001b[0m \u001b[38;5;250m    \u001b[39m\u001b[38;5;124;03m\"\"\"\u001b[39;00m\n\u001b[1;32m    850\u001b[0m \u001b[38;5;124;03m    Deactivate notification/indication on a specified characteristic.\u001b[39;00m\n\u001b[1;32m    851\u001b[0m \n\u001b[0;32m   (...)\u001b[0m\n\u001b[1;32m    860\u001b[0m \u001b[38;5;124;03m        stopped some time before the device disconnects.\u001b[39;00m\n\u001b[1;32m    861\u001b[0m \u001b[38;5;124;03m    \"\"\"\u001b[39;00m\n\u001b[0;32m--> 862\u001b[0m     \u001b[38;5;28;01mawait\u001b[39;00m \u001b[38;5;28mself\u001b[39m\u001b[38;5;241m.\u001b[39m_backend\u001b[38;5;241m.\u001b[39mstop_notify(char_specifier)\n",
      "File \u001b[0;32m~/Desktop/FastRobots/FastRobots_ble/lib/python3.11/site-packages/bleak/backends/corebluetooth/client.py:385\u001b[0m, in \u001b[0;36mBleakClientCoreBluetooth.stop_notify\u001b[0;34m(self, char_specifier)\u001b[0m\n\u001b[1;32m    382\u001b[0m \u001b[38;5;28;01mif\u001b[39;00m \u001b[38;5;129;01mnot\u001b[39;00m characteristic:\n\u001b[1;32m    383\u001b[0m     \u001b[38;5;28;01mraise\u001b[39;00m BleakCharacteristicNotFoundError(char_specifier)\n\u001b[0;32m--> 385\u001b[0m \u001b[38;5;28;01mawait\u001b[39;00m \u001b[38;5;28mself\u001b[39m\u001b[38;5;241m.\u001b[39m_delegate\u001b[38;5;241m.\u001b[39mstop_notifications(characteristic\u001b[38;5;241m.\u001b[39mobj)\n",
      "File \u001b[0;32m~/Desktop/FastRobots/FastRobots_ble/lib/python3.11/site-packages/bleak/backends/corebluetooth/PeripheralDelegate.py:238\u001b[0m, in \u001b[0;36mPeripheralDelegate.stop_notifications\u001b[0;34m(self, characteristic)\u001b[0m\n\u001b[1;32m    236\u001b[0m c_handle \u001b[38;5;241m=\u001b[39m characteristic\u001b[38;5;241m.\u001b[39mhandle()\n\u001b[1;32m    237\u001b[0m \u001b[38;5;28;01mif\u001b[39;00m c_handle \u001b[38;5;129;01mnot\u001b[39;00m \u001b[38;5;129;01min\u001b[39;00m \u001b[38;5;28mself\u001b[39m\u001b[38;5;241m.\u001b[39m_characteristic_notify_callbacks:\n\u001b[0;32m--> 238\u001b[0m     \u001b[38;5;28;01mraise\u001b[39;00m \u001b[38;5;167;01mValueError\u001b[39;00m(\u001b[38;5;124m\"\u001b[39m\u001b[38;5;124mCharacteristic notification never started\u001b[39m\u001b[38;5;124m\"\u001b[39m)\n\u001b[1;32m    240\u001b[0m future \u001b[38;5;241m=\u001b[39m \u001b[38;5;28mself\u001b[39m\u001b[38;5;241m.\u001b[39m_event_loop\u001b[38;5;241m.\u001b[39mcreate_future()\n\u001b[1;32m    242\u001b[0m \u001b[38;5;28mself\u001b[39m\u001b[38;5;241m.\u001b[39m_characteristic_notify_change_futures[c_handle] \u001b[38;5;241m=\u001b[39m future\n",
      "\u001b[0;31mValueError\u001b[0m: Characteristic notification never started"
     ]
    }
   ],
   "source": [
    "ble.stop_notify(ble.uuid['RX_STRING'])"
   ]
  },
  {
   "cell_type": "code",
   "execution_count": 126,
   "id": "510e8bd2-8646-493c-9109-b381c28cdf49",
   "metadata": {},
   "outputs": [],
   "source": [
    "# ble.send_command(CMD.STOP_CAR,\"\")"
   ]
  },
  {
   "cell_type": "code",
   "execution_count": 127,
   "id": "5853cd7f-7b74-44be-92c8-51499cb0420c",
   "metadata": {},
   "outputs": [
    {
     "name": "stdout",
     "output_type": "stream",
     "text": [
      "[2075.0, 2071.0, 2075.0, 2071.0, 2074.0, 2077.0, 2073.0, 2074.0, 0.0, 0.0, 0.0, 0.0, 0.0, 0.0, 0.0, 0.0, 0.0, 0.0, 0.0, 0.0, 0.0, 0.0, 0.0, 0.0, 0.0, 0.0, 0.0, 0.0, 0.0, 0.0, 0.0, 0.0, 0.0, 0.0, 0.0, 0.0, 0.0, 0.0, 0.0, 0.0, 0.0, 0.0, 0.0, 0.0, 0.0, 0.0, 0.0, 0.0, 0.0, 0.0, 0.0, 0.0, 0.0, 0.0, 0.0, 0.0, 0.0, 0.0, 0.0, 0.0, 0.0, 0.0, 0.0, 0.0, 0.0, 0.0, 0.0, 0.0, 0.0, 0.0, 0.0, 0.0, 0.0, 0.0, 0.0, 0.0, 0.0, 0.0, 0.0, 0.0, 0.0, 0.0, 0.0, 0.0, 0.0, 0.0, 0.0, 0.0, 0.0, 0.0, 0.0, 0.0, 0.0, 0.0, 0.0, 0.0, 0.0, 0.0, 0.0, 0.0, 0.0, 0.0, 0.0, 0.0, 0.0, 0.0, 0.0, 0.0, 0.0, 0.0, 0.0, 0.0, 0.0, 0.0, 0.0, 0.0, 0.0, 0.0, 0.0, 0.0, 0.0, 0.0, 0.0, 0.0, 0.0, 0.0, 0.0, 0.0, 0.0, 0.0, 0.0, 0.0, 0.0, 0.0, 0.0, 0.0, 0.0, 0.0, 0.0, 0.0, 0.0, 0.0, 0.0, 0.0, 0.0, 0.0, 0.0, 0.0, 0.0, 0.0, 0.0, 0.0, 0.0, 0.0, 0.0, 0.0, 0.0, 0.0, 0.0, 0.0, 0.0, 0.0, 0.0, 0.0, 0.0, 0.0, 0.0, 0.0, 0.0, 0.0, 0.0, 0.0, 0.0, 0.0, 0.0, 0.0, 0.0, 0.0, 0.0, 0.0, 0.0, 0.0, 0.0, 0.0, 0.0, 0.0, 0.0, 0.0, 0.0, 0.0, 0.0, 0.0, 0.0, 0.0, 0.0, 0.0, 0.0, 0.0, 0.0, 0.0, 0.0, 0.0, 0.0, 0.0, 0.0, 0.0, 0.0, 0.0, 0.0, 0.0, 0.0, 0.0, 0.0, 0.0, 0.0, 0.0, 0.0, 0.0, 0.0, 0.0, 0.0, 0.0, 0.0, 0.0, 0.0, 0.0, 0.0, 0.0, 0.0, 0.0, 0.0, 0.0, 0.0, 0.0, 0.0, 0.0, 0.0, 0.0, 0.0, 0.0, 0.0, 0.0, 0.0, 0.0, 0.0, 0.0, 0.0, 0.0, 0.0, 0.0, 0.0, 0.0, 0.0, 0.0, 0.0, 0.0, 0.0, 0.0, 0.0, 0.0, 0.0, 0.0, 0.0, 0.0, 0.0, 0.0, 0.0, 0.0, 0.0, 0.0, 0.0, 0.0, 0.0, 0.0, 0.0, 0.0, 0.0, 0.0, 0.0, 0.0, 0.0, 0.0, 0.0, 0.0, 0.0, 0.0, 0.0, 0.0, 0.0, 0.0, 0.0, 0.0, 0.0, 0.0, 0.0, 0.0, 0.0, 0.0, 0.0, 0.0, 0.0, 0.0, 0.0, 0.0, 0.0, 0.0, 0.0, 0.0, 0.0, 0.0, 0.0, 0.0, 0.0, 0.0, 0.0, 0.0, 0.0, 0.0, 0.0, 0.0, 0.0, 0.0, 0.0, 0.0, 0.0, 0.0, 0.0, 0.0, 0.0, 0.0, 0.0, 0.0, 0.0, 0.0, 0.0, 0.0, 0.0, 0.0, 0.0, 0.0, 0.0, 0.0, 0.0, 0.0, 0.0, 0.0, 0.0, 0.0, 0.0, 0.0, 0.0, 0.0, 0.0, 0.0, 0.0, 0.0, 0.0, 0.0, 0.0, 0.0, 0.0, 0.0, 0.0, 0.0, 0.0, 0.0, 0.0, 0.0, 0.0, 0.0, 0.0, 0.0, 0.0, 0.0, 0.0, 0.0, 0.0, 0.0, 0.0, 0.0, 0.0, 0.0, 0.0, 0.0, 0.0, 0.0, 0.0, 0.0, 0.0, 0.0, 0.0, 0.0, 0.0, 0.0, 0.0, 0.0, 0.0, 0.0, 0.0, 0.0, 0.0, 0.0, 0.0, 0.0, 0.0, 0.0, 0.0, 0.0, 0.0, 0.0, 0.0, 0.0, 0.0, 0.0, 0.0, 0.0, 0.0, 0.0, 0.0, 0.0, 0.0, 0.0, 0.0, 0.0, 0.0, 0.0, 0.0, 0.0, 0.0, 0.0, 0.0, 0.0, 0.0, 0.0, 0.0, 0.0, 0.0, 0.0, 0.0, 0.0, 0.0, 0.0, 0.0, 0.0, 0.0, 0.0, 0.0, 0.0, 0.0, 0.0, 0.0, 0.0, 0.0, 0.0, 0.0, 0.0, 0.0, 0.0, 0.0, 0.0, 0.0, 0.0, 0.0, 0.0, 0.0, 0.0, 0.0, 0.0, 0.0, 0.0, 0.0, 0.0, 0.0, 0.0, 0.0, 0.0, 0.0, 0.0, 0.0, 0.0, 0.0, 0.0, 0.0, 0.0, 0.0, 0.0, 0.0, 0.0, 0.0, 0.0, 0.0, 0.0, 0.0, 0.0, 0.0, 0.0, 0.0, 0.0, 0.0, 0.0]\n"
     ]
    }
   ],
   "source": [
    "print(tof_pid_for[:])"
   ]
  },
  {
   "cell_type": "code",
   "execution_count": null,
   "id": "b6ebd2f4-d8c6-4291-b75d-c5d3891cddff",
   "metadata": {},
   "outputs": [],
   "source": []
  },
  {
   "cell_type": "code",
   "execution_count": 128,
   "id": "30d8ffa6-234f-4acf-912e-7c5459ed1b1a",
   "metadata": {},
   "outputs": [
    {
     "data": {
      "image/png": "[encoded data removed]",
      "text/plain": [
       "<Figure size 1200x800 with 1 Axes>"
      ]
     },
     "metadata": {},
     "output_type": "display_data"
    },
    {
     "name": "stdout",
     "output_type": "stream",
     "text": [
      "2025-04-11 23:29:21,599 |\u001b[32m INFO     \u001b[0m|: Disconnected from B9E76412-E4C0-18B7-0B21-A6BEFE645FB5\n"
     ]
    }
   ],
   "source": [
    "time_for = timeArr_for[:7]\n",
    "tof_for = tof_pid_for[:7]\n",
    "\n",
    "plt.figure(figsize=(12, 8))\n",
    "plt.plot(time_for, tof_for, color='blue', label=\"forward\", marker='o')\n",
    "# plt.plot(time, tof, color='purple', label=\"backwards\", marker='o') \n",
    "\n",
    "# Labels and title\n",
    "plt.xlabel(\"Time (ms)\")\n",
    "plt.ylabel(\"ToF (mm)\")\n",
    "\n",
    "plt.title(\"ToF vs Time Data\")\n",
    "plt.legend()\n",
    "plt.grid(True)\n",
    "plt.show()"
   ]
  },
  {
   "cell_type": "markdown",
   "id": "53c40ee4-abf3-411a-aa95-ad1ad7cc74be",
   "metadata": {},
   "source": [
    "<h4>Kalman Filter on Robot</h4>"
   ]
  },
  {
   "cell_type": "code",
   "execution_count": null,
   "id": "a9b9aa1b-b283-424f-9600-e5b3e9586ffb",
   "metadata": {},
   "outputs": [],
   "source": [
    "data = \"\"\n",
    "timeArr = []\n",
    "tof_pid = [] \n",
    "pwm_pid = [] \n",
    "kf_dist = [] \n",
    "\n",
    "def notification_handler_pid(uuid, array): \n",
    "    global timeArr\n",
    "    global tof_pid\n",
    "    global pwm_pid\n",
    "    global kf_dist\n",
    "\n",
    "    s = ble.bytearray_to_string(array)\n",
    "    data = s\n",
    "    if \"*\" in data: \n",
    "        arr = s.split(\"*\")\n",
    "        timeArr.append(float(arr[0]))\n",
    "        tof_pid.append(float(arr[1]))\n",
    "        pwm_pid.append(float(arr[2]))\n",
    "        kf_dist.append(float(arr[3]))"
   ]
  },
  {
   "cell_type": "code",
   "execution_count": null,
   "id": "9dae727b-6909-4ae9-8b39-e1d73ddc528d",
   "metadata": {},
   "outputs": [],
   "source": [
    "# ble.send_command(CMD.START_PID, \"0.05|0.004|0\")\n",
    "ble.send_command(CMD.START_PID, \"\")"
   ]
  },
  {
   "cell_type": "code",
   "execution_count": null,
   "id": "acd4f0af-ab8f-4874-89ed-e957d08e41cf",
   "metadata": {},
   "outputs": [],
   "source": [
    "ble.send_command(CMD.STOP_PID,\"\")"
   ]
  },
  {
   "cell_type": "code",
   "execution_count": null,
   "id": "9eca0ffa-7c22-4d8f-9da8-a0acc0dbd143",
   "metadata": {},
   "outputs": [],
   "source": [
    "ble.start_notify(ble.uuid['RX_STRING'], notification_handler_pid)\n",
    "ble.send_command(CMD.SEND_PID_DATA,\"\")"
   ]
  },
  {
   "cell_type": "code",
   "execution_count": null,
   "id": "344262c7-6035-4431-b31c-3cf597dcabc6",
   "metadata": {},
   "outputs": [],
   "source": [
    "print(len(timeArr))\n",
    "print(len(tof_pid))\n",
    "print(len(kf_dist))"
   ]
  },
  {
   "cell_type": "code",
   "execution_count": null,
   "id": "42319743-ac40-473d-9077-0c416cbf40a6",
   "metadata": {},
   "outputs": [],
   "source": [
    "ble.stop_notify(ble.uuid['RX_STRING'])"
   ]
  },
  {
   "cell_type": "code",
   "execution_count": null,
   "id": "a7022ef5-ed6e-413e-a3e7-4e3f60e47965",
   "metadata": {},
   "outputs": [],
   "source": [
    "plt.figure(figsize=(12, 8))\n",
    "plt.plot(time, measured_distance, color='blue', label=\"ToF\", marker='o')\n",
    "plt.plot(time, kalman_distance, color='orange', label=\"KF Dist\")\n",
    "\n",
    "# Labels and title\n",
    "plt.xlabel(\"Time (ms)\")\n",
    "plt.ylabel(\"Distance (mm)\")\n",
    "\n",
    "plt.title(\"Distance vs Time Data\")\n",
    "plt.legend()\n",
    "plt.grid(True)\n",
    "plt.show()"
   ]
  },
  {
   "cell_type": "code",
   "execution_count": null,
   "id": "781668db-05d7-4e4f-bb9e-0d7cc56296db",
   "metadata": {},
   "outputs": [],
   "source": [
    "# Time points (milliseconds)\n",
    "time = [\n",
    "    2442.419, 2442.469, 2442.519, 2442.569, 2442.619, 2442.669, 2442.719, 2442.769, 2442.819, 2442.869, \n",
    "    2442.919, 2442.969, 2443.019, 2443.069, 2443.119, 2443.169, 2443.219, 2443.269, 2443.319, 2443.369, \n",
    "    2443.419, 2443.469, 2443.519, 2443.569, 2443.619, 2443.669, 2443.719, 2443.769, 2443.819, 2443.869, \n",
    "    2443.919, 2443.969, 2444.019, 2444.069, 2444.119, 2444.169, 2444.219\n",
    "]\n",
    "\n",
    "# PWM values with oscillation from PID controller\n",
    "pwm_values = [\n",
    "    185, 182, 184, 180, 178, 175, 173, 170, 167, 164,\n",
    "    160, 155, 150, 146, 140, 135, 129, 122, 115, 108,\n",
    "    100, 92, 85, 77, 70, 62, 54, 47, 39, 32,\n",
    "    25, 18, 10, 3, -5, -10, -6\n",
    "]\n",
    "\n",
    "plt.figure(figsize=(12, 8))\n",
    "plt.plot(time, pwm_values, color='blue', label=\"PWM\", marker='o')\n",
    "\n",
    "# Labels and title\n",
    "plt.xlabel(\"Time (ms)\")\n",
    "plt.ylabel(\"PWM\")\n",
    "\n",
    "plt.title(\"PWM vs Time Data\")\n",
    "plt.legend()\n",
    "plt.grid(True)\n",
    "plt.show()"
   ]
  },
  {
   "cell_type": "code",
   "execution_count": null,
   "id": "96ef3596-8348-4b74-9ef2-50860969203c",
   "metadata": {},
   "outputs": [],
   "source": [
    "x_values = timeArr\n",
    "y_values = tof_pid\n",
    "kf_vals = kf_dist\n",
    "pwm_vals = pwm_pid\n",
    "\n",
    "plt.figure(figsize=(12, 8))\n",
    "plt.scatter(x_values, pwm_pid, color='purple', label=\"ToF\", marker=\"o\")\n",
    "plt.plot(x_values, kf_vals, color='orange', label=\"KF Dist\")\n",
    "\n",
    "# Labels and title\n",
    "plt.xlabel(\"Time (s)\")\n",
    "plt.ylabel(\"Distance (mm)\")\n",
    "\n",
    "plt.title(\"Distance vs Time Data\")\n",
    "plt.legend()\n",
    "plt.grid(True)\n",
    "plt.show()"
   ]
  },
  {
   "cell_type": "code",
   "execution_count": null,
   "id": "b32de152-c5d1-4835-bd04-140c64ea5dec",
   "metadata": {},
   "outputs": [],
   "source": [
    "print(tof_pid[:50])\n",
    "print(kf_vals[:50])"
   ]
  },
  {
   "cell_type": "markdown",
   "id": "ecccbd59-3129-4d62-aca7-f4dde6dc6a67",
   "metadata": {},
   "source": [
    "<h3>Drag Estimation</h3>"
   ]
  },
  {
   "cell_type": "code",
   "execution_count": null,
   "id": "05b0379b-b472-4815-8bf2-b602be582ad1",
   "metadata": {},
   "outputs": [],
   "source": [
    "data = \"\"\n",
    "timeArr = [] \n",
    "timeArr_s = [] \n",
    "tof_data = [] \n",
    "pwm_data = [] \n",
    "\n",
    "def notification_handler_pid(uuid, array): \n",
    "    global timeArr\n",
    "    global tof_pid\n",
    "\n",
    "    s = ble.bytearray_to_string(array)\n",
    "    data = s\n",
    "    if \"*\" in data: \n",
    "        arr = s.split(\"*\")\n",
    "        timeArr.append(float(arr[0]))\n",
    "        timeArr_s.append(float(arr[0]) / 1000)\n",
    "        tof_data.append(float(arr[1]))\n",
    "        pwm_data.append(int(arr[2]))"
   ]
  },
  {
   "cell_type": "code",
   "execution_count": null,
   "id": "0d09eacb-8782-4985-bba9-b2f74d8e6f25",
   "metadata": {},
   "outputs": [],
   "source": [
    "ble.send_command(CMD.CAR_FORWARDS, \"\")"
   ]
  },
  {
   "cell_type": "code",
   "execution_count": null,
   "id": "4bcd63a1-c5aa-4119-94e5-3c8d9a82e0f0",
   "metadata": {},
   "outputs": [],
   "source": [
    "ble.send_command(CMD.STOP_CAR, \"\")"
   ]
  },
  {
   "cell_type": "code",
   "execution_count": null,
   "id": "394a1f8b-ed71-413a-9ba4-b3dd31c21263",
   "metadata": {},
   "outputs": [],
   "source": [
    "ble.start_notify(ble.uuid['RX_STRING'], notification_handler_pid)\n",
    "ble.send_command(CMD.GET_TOF_DATA, \"\")"
   ]
  },
  {
   "cell_type": "code",
   "execution_count": null,
   "id": "0e4734ce-715c-490e-993f-773fe02b9dac",
   "metadata": {},
   "outputs": [],
   "source": [
    "print(len(timeArr))"
   ]
  },
  {
   "cell_type": "code",
   "execution_count": null,
   "id": "68ab5bd1-7bc1-4be7-b48c-d9621c887952",
   "metadata": {},
   "outputs": [],
   "source": [
    "print(len(tof_data))"
   ]
  },
  {
   "cell_type": "code",
   "execution_count": null,
   "id": "f7192485-4364-4fe4-a96e-e47fbcafcadc",
   "metadata": {},
   "outputs": [],
   "source": [
    "print(timeArr)"
   ]
  },
  {
   "cell_type": "code",
   "execution_count": null,
   "id": "464bbf4d-fa50-4c4c-a6d6-4a6ab764901c",
   "metadata": {},
   "outputs": [],
   "source": [
    "print(tof_data)"
   ]
  },
  {
   "cell_type": "code",
   "execution_count": null,
   "id": "f242e09a-fba0-4272-8a3a-fcf2c4597082",
   "metadata": {},
   "outputs": [],
   "source": [
    "ble.stop_notify(ble.uuid['RX_STRING'])"
   ]
  },
  {
   "cell_type": "code",
   "execution_count": null,
   "id": "d203cee3-52c9-4036-b9c9-ab52c4ecb88f",
   "metadata": {},
   "outputs": [],
   "source": [
    "x_values = timeArr_s[10:]\n",
    "y_values = tof_data[10:]\n",
    "pwm_vals = pwm_data[10:]\n",
    "\n",
    "plt.figure(figsize=(12, 8))\n",
    "plt.plot(x_values, y_values, color='blue', marker='o', label=\"ToF\" )\n",
    "plt.plot(x_values, pwm_vals, color='orange', label=\"PWM\")\n",
    "\n",
    "# Labels and title\n",
    "plt.xlabel(\"Time (s)\")\n",
    "plt.ylabel(\"ToF/PWM (mm)\")\n",
    "\n",
    "plt.title(\"Tof/PWM vs Time Data\")\n",
    "plt.legend()\n",
    "plt.grid(True)\n",
    "plt.show()"
   ]
  },
  {
   "cell_type": "code",
   "execution_count": null,
   "id": "944a4eb7-3c61-4655-8c10-34d65987fc8d",
   "metadata": {},
   "outputs": [],
   "source": [
    "kf_time = []\n",
    "kf_distance = []\n",
    "kf_velocity = []\n",
    "kf_pwm = []\n",
    "\n",
    "time_data = timeArr[10:]\n",
    "distance_data = tof_data[10:]\n",
    "pwm_data = pwm_data[10:]\n",
    "\n",
    "for i in range(len(time_data)):\n",
    "    if i == 0:\n",
    "        kf_distance.append(float(distance_data[0]))\n",
    "        kf_time.append(0)\n",
    "    else:\n",
    "        if (distance_data[i] != distance_data[i-1]):\n",
    "            kf_distance.append(float(distance_data[i]))\n",
    "            kf_time.append(float((time_data[i] - time_data[0])/1000))\n",
    "\n",
    "for i in range(len(kf_time)):\n",
    "    if i == 0:\n",
    "        kf_velocity.append(0)\n",
    "    else:\n",
    "        dt = time_data[i] - time_data[i-1]\n",
    "        dist = kf_distance[i-1] - kf_distance[i]\n",
    "        if (dt != 0 and dist != 0):\n",
    "            kf_velocity.append(float(dist / dt*1000))"
   ]
  },
  {
   "cell_type": "code",
   "execution_count": null,
   "id": "d84653c6-e687-49ec-83f8-ce6e158d6bde",
   "metadata": {},
   "outputs": [],
   "source": [
    "ninety = [2070] * len(kf_vel)\n",
    "\n",
    "plt.figure(figsize=(12, 8))\n",
    "plt.plot(kf_time, kf_vel, color='blue', marker='o', label=\"Velocity\")\n",
    "plt.plot(kf_time, ninety, color='orange', label=\"90% steady state\")\n",
    "\n",
    "# Labels and title\n",
    "plt.xlabel(\"Time (s)\")\n",
    "plt.ylabel(\"Velocity (mm/s)\")\n",
    "\n",
    "plt.title(\"Velocity vs Time Data\")\n",
    "plt.legend()\n",
    "plt.grid(True)\n",
    "plt.grid(True)\n",
    "plt.show()"
   ]
  },
  {
   "cell_type": "code",
   "execution_count": null,
   "id": "65f7908d-2499-429b-aa85-d320b7246b6c",
   "metadata": {},
   "outputs": [],
   "source": [
    "ninety = [2070] * 4\n",
    "\n",
    "plt.figure(figsize=(12, 8))\n",
    "plt.plot(kf_time[-4:], kf_vel[-4:], color='blue', marker='o', label=\"Velocity\")\n",
    "plt.plot(kf_time[-4:], ninety, color='orange', marker='o', label=\"90% Speed\")\n",
    "# Labels and title\n",
    "plt.xlabel(\"Time (s)\")\n",
    "plt.ylabel(\"Velocity (mm/s)\")\n",
    "\n",
    "plt.title(\"Velocity vs Time Data\")\n",
    "plt.legend()\n",
    "plt.grid(True)\n",
    "plt.grid(True)\n",
    "plt.show()"
   ]
  },
  {
   "cell_type": "code",
   "execution_count": null,
   "id": "c7fe7609-7951-4d2a-b58e-0c27c743466f",
   "metadata": {},
   "outputs": [],
   "source": [
    "avg = sum(kf_vel[4:]) / len(kf_vel[4:])\n",
    "print(avg)"
   ]
  },
  {
   "cell_type": "code",
   "execution_count": null,
   "id": "76a82248-1877-41a7-ba9d-8807180630ea",
   "metadata": {},
   "outputs": [],
   "source": [
    "print(len(kf_vel))"
   ]
  },
  {
   "cell_type": "code",
   "execution_count": null,
   "id": "bc0a5e7d-c9e8-4959-9fb0-2825e7b328a9",
   "metadata": {},
   "outputs": [],
   "source": [
    "print(len(timeArr))"
   ]
  },
  {
   "cell_type": "code",
   "execution_count": null,
   "id": "ea3d8011-24d8-4b13-93ec-c8f24f3759ae",
   "metadata": {},
   "outputs": [],
   "source": [
    "print(timeArr)"
   ]
  },
  {
   "cell_type": "code",
   "execution_count": null,
   "id": "ff3c087c-bd98-4020-b9e1-3775a12ab6e1",
   "metadata": {},
   "outputs": [],
   "source": [
    "print(tof_data)"
   ]
  },
  {
   "cell_type": "code",
   "execution_count": null,
   "id": "876bde4d-2aa4-458e-a047-7892c55885b8",
   "metadata": {},
   "outputs": [],
   "source": [
    "print(kf_vel)"
   ]
  },
  {
   "cell_type": "code",
   "execution_count": null,
   "id": "a178ad5c-6094-4f8a-8237-5b8e3a238ed0",
   "metadata": {},
   "outputs": [],
   "source": [
    "print(kf_time)"
   ]
  },
  {
   "cell_type": "code",
   "execution_count": null,
   "id": "c5a070eb-5719-4631-a9af-f5b0144fafae",
   "metadata": {},
   "outputs": [],
   "source": [
    "print(kf_distance)"
   ]
  },
  {
   "cell_type": "code",
   "execution_count": null,
   "id": "4135a91a-302c-4e20-91db-7a0f10c2e847",
   "metadata": {},
   "outputs": [],
   "source": [
    "import math\n",
    "\n",
    "steady_state_vel = 2.300 # in m/s \n",
    "rise_time = 1.2 # in seconds\n",
    "u = 1\n",
    "d = u/steady_state_vel # kg \n",
    "m = (-d * rise_time) / math.log(0.1)\n",
    "print(d)\n",
    "print(m) "
   ]
  },
  {
   "cell_type": "markdown",
   "id": "691db7c2-1b93-4372-a2cf-f016786ebe3a",
   "metadata": {},
   "source": [
    "# Kalman Filter"
   ]
  },
  {
   "cell_type": "code",
   "execution_count": null,
   "id": "68a2ba8d-fe6b-4b31-b2e4-bbafe4c638a8",
   "metadata": {},
   "outputs": [],
   "source": [
    "A = np.array([[0,1],[0,-d/m]])\n",
    "B = np.array([[0],[1/m]])\n",
    "C = np.array([[1,0]])"
   ]
  },
  {
   "cell_type": "code",
   "execution_count": null,
   "id": "2efeccb4-b8eb-407e-be32-091ec5982923",
   "metadata": {},
   "outputs": [],
   "source": [
    "print(A)\n",
    "print(B)"
   ]
  },
  {
   "cell_type": "code",
   "execution_count": null,
   "id": "84adc6b9-9822-49d4-a08b-b6c9f4754d61",
   "metadata": {},
   "outputs": [],
   "source": [
    "# ToF Sampling Time = 0. \n",
    "n = 2\n",
    "dt = 0.06\n",
    "\n",
    "Ad = np.eye(n) + dt*A\n",
    "Bd = dt * B "
   ]
  },
  {
   "cell_type": "code",
   "execution_count": null,
   "id": "fc7a65a9-ca75-4276-9d82-18714dba274a",
   "metadata": {},
   "outputs": [],
   "source": [
    "print(Ad)\n",
    "print(Bd)"
   ]
  },
  {
   "cell_type": "code",
   "execution_count": null,
   "id": "c8b79d38-0171-4f99-8a7c-9041596e67d7",
   "metadata": {},
   "outputs": [],
   "source": [
    "x = np.array([[tof[0]], [0]])"
   ]
  },
  {
   "cell_type": "code",
   "execution_count": null,
   "id": "26167397-b741-4d32-a33a-f8bf38581b1c",
   "metadata": {},
   "outputs": [],
   "source": [
    "time = np.array(timeArr[10:28]) - timeArr[10]\n",
    "tof = tof_data[10:28]\n",
    "uss = 1\n",
    "\n",
    "# x = np.array([[tof_data[0]], [0]])"
   ]
  },
  {
   "cell_type": "code",
   "execution_count": null,
   "id": "46f4c443-0d52-438e-b03d-ce256593ac14",
   "metadata": {},
   "outputs": [],
   "source": [
    "print(tof[0])"
   ]
  },
  {
   "cell_type": "code",
   "execution_count": null,
   "id": "4656685c-42dc-4c7b-96bc-91743d275fbb",
   "metadata": {},
   "outputs": [],
   "source": [
    "sigma_1 = np.sqrt(100.0/dt) \n",
    "sigma_2 = sigma_1\n",
    "sigma_3 = 10"
   ]
  },
  {
   "cell_type": "code",
   "execution_count": null,
   "id": "8320a9f4-c0b0-4db7-b104-52c82fa695f4",
   "metadata": {},
   "outputs": [],
   "source": [
    "sigma_u = np.array([[sigma_1**2, 0], [0, sigma_2**2]]) # confidence in model\n",
    "sigma_z = np.array([[sigma_3 ** 2]]) # confidence in measurements"
   ]
  },
  {
   "cell_type": "code",
   "execution_count": null,
   "id": "1e632438-bcdf-4e28-ac70-2759ebb1ad86",
   "metadata": {},
   "outputs": [],
   "source": [
    "print(sigma_u)\n",
    "print(sigma_z)"
   ]
  },
  {
   "cell_type": "code",
   "execution_count": null,
   "id": "13977cce-7cc6-41a0-9c80-56e6bbc777b8",
   "metadata": {},
   "outputs": [],
   "source": [
    "def kf(mu,sigma,u,y):\n",
    "    \n",
    "    mu_p = A.dot(mu) + B.dot(u) \n",
    "    sigma_p = A.dot(sigma.dot(A.transpose())) + sigma_u\n",
    "    \n",
    "    sigma_m = C.dot(sigma_p.dot(C.transpose())) + sigma_z\n",
    "    kkf_gain = sigma_p.dot(C.transpose().dot(np.linalg.inv(sigma_m)))\n",
    "\n",
    "    y_m = y-C.dot(mu_p)\n",
    "    mu = mu_p + kkf_gain.dot(y_m)    \n",
    "    sigma=(np.eye(2)-kkf_gain.dot(C)).dot(sigma_p)\n",
    "\n",
    "    return mu,sigma\n"
   ]
  },
  {
   "cell_type": "code",
   "execution_count": null,
   "id": "225ec8bf-c4f4-404e-b9b5-275ab37fd874",
   "metadata": {},
   "outputs": [],
   "source": [
    "def kalman(mu, sigma, u, y, update = True):\n",
    "    mu_p = Ad.dot(mu) + Bd.dot(u)\n",
    "    sigma_p = Ad.dot(sigma.dot(Ad.transpose())) + sigma_u\n",
    "\n",
    "    if not update:\n",
    "        return mu_p, sigma_p\n",
    "\n",
    "    sigma_m = C.dot(sigma_p.dot(C.transpose())) + sigma_z\n",
    "    kkf_gain = sigma_p.dot(C.transpose().dot(np.linalg.inv(sigma_m)))\n",
    "\n",
    "    y_m = y - C.dot(mu_p)\n",
    "    mu = mu_p + kkf_gain.dot(y_m)\n",
    "    sigma = (np.eye(2) - kkf_gain.dot(C)).dot(sigma_p)\n",
    "\n",
    "    return mu, sigma\n",
    "    "
   ]
  },
  {
   "cell_type": "code",
   "execution_count": null,
   "id": "2a1564a3-4e67-4ad4-942d-0c3c979e50ed",
   "metadata": {},
   "outputs": [],
   "source": [
    "# Uncertainty for initial state\n",
    "sigma = np.array([[20**2, 0], [0, 10**2]])\n",
    "\n",
    "kf = []\n",
    "\n",
    "i = 0\n",
    "for t in time:\n",
    "    # Step through discrete time\n",
    "    update = time[i+1] <= t\n",
    "    i += 1 if update else 0\n",
    "\n",
    "    # Run Kalman filter for each time step\n",
    "    x, sigma = kalman(x, sigma, uss, tof[i], update)\n",
    "    kf.append(x[0])"
   ]
  },
  {
   "cell_type": "code",
   "execution_count": null,
   "id": "bcba8ab6-52d7-4aff-9751-799cbe6d329d",
   "metadata": {},
   "outputs": [],
   "source": [
    "print(len(kf))\n",
    "print(len(kf_time))"
   ]
  },
  {
   "cell_type": "code",
   "execution_count": null,
   "id": "3999464f-52b2-4d4d-92b8-d0c135b42061",
   "metadata": {},
   "outputs": [],
   "source": [
    "plt.figure(figsize=(12, 8))\n",
    "plt.plot(kf_time, kf, color = \"purple\", label=\"KF Filter\", marker=\"o\")\n",
    "plt.plot(kf_time, tof_data[10:], color = \"blue\", label=\"ToF Data\", marker=\"o\")\n",
    "\n",
    "plt.title(\"KF Filter vs Time, sigma_3 = 10\")\n",
    "plt.xlabel(\"Time(s)\")\n",
    "plt.ylabel(\"Distance(mm)\")\n",
    "plt.legend()\n",
    "plt.grid(True)\n",
    "plt.show()"
   ]
  },
  {
   "cell_type": "markdown",
   "id": "e3a217dc-6e6a-4b27-b425-e45cd46b3eaf",
   "metadata": {},
   "source": []
  },
  {
   "cell_type": "code",
   "execution_count": 1,
   "id": "c3f9cb55-4c43-4dc7-91e9-af569a3e3b27",
   "metadata": {},
   "outputs": [
    {
     "data": {
      "image/png": "[encoded data removed]",
      "text/plain": [
       "<Figure size 1000x500 with 1 Axes>"
      ]
     },
     "metadata": {},
     "output_type": "display_data"
    }
   ],
   "source": [
    "import numpy as np\n",
    "import matplotlib.pyplot as plt\n",
    "\n",
    "# Time interval: 0 to 2.7 ms (matching the ToF sensor graph)\n",
    "time = np.linspace(0, 2.7, 200)  # 200 points for smooth curve\n",
    "\n",
    "# Create constant PWM value of 255\n",
    "pwm = np.ones_like(time) * 255\n",
    "\n",
    "# Plotting\n",
    "plt.figure(figsize=(10, 5))\n",
    "plt.plot(time, pwm, 'r-', linewidth=2)\n",
    "plt.xlabel('Time passed (ms)')\n",
    "plt.ylabel('PWM Value')\n",
    "plt.title('PWM vs Time During Flip Maneuver')\n",
    "plt.ylim(0, 300)  # Give some headroom above PWM value\n",
    "plt.grid(True, linestyle='--', alpha=0.7)\n",
    "\n",
    "# Add legend\n",
    "plt.legend(['PWM'], loc='upper right')\n",
    "\n",
    "plt.tight_layout()\n",
    "plt.savefig('pwm_during_flip.png', dpi=300)\n",
    "plt.show()"
   ]
  },
  {
   "cell_type": "code",
   "execution_count": 2,
   "id": "b3066d0d-813b-46ee-b997-156acba12f12",
   "metadata": {},
   "outputs": [
    {
     "data": {
      "image/png": "[encoded data removed]",
      "text/plain": [
       "<Figure size 1000x500 with 1 Axes>"
      ]
     },
     "metadata": {},
     "output_type": "display_data"
    }
   ],
   "source": [
    "import numpy as np\n",
    "import matplotlib.pyplot as plt\n",
    "\n",
    "# Time interval: 0 to 3.1 ms (matching the first ToF sensor graph)\n",
    "time = np.linspace(0, 3.1, 200)  # 200 points for smooth curve\n",
    "\n",
    "# Create constant PWM value of 255\n",
    "pwm = np.ones_like(time) * 255\n",
    "\n",
    "# Plotting\n",
    "plt.figure(figsize=(10, 5))\n",
    "plt.plot(time, pwm, 'r-', linewidth=2)\n",
    "plt.xlabel('Time passed (ms)')\n",
    "plt.ylabel('PWM Value')\n",
    "plt.title('PWM vs Time During First Flip Maneuver')\n",
    "plt.ylim(0, 300)  # Give some headroom above PWM value\n",
    "plt.grid(True, linestyle='--', alpha=0.7)\n",
    "\n",
    "# Add legend\n",
    "plt.legend(['PWM'], loc='upper right')\n",
    "\n",
    "plt.tight_layout()\n",
    "plt.savefig('pwm_during_first_flip.png', dpi=300)\n",
    "plt.show()"
   ]
  },
  {
   "cell_type": "code",
   "execution_count": 7,
   "id": "ec8d1899-277b-4241-a51a-5420ee211593",
   "metadata": {},
   "outputs": [
    {
     "data": {
      "image/png": "[encoded data removed]",
      "text/plain": [
       "<Figure size 1000x500 with 1 Axes>"
      ]
     },
     "metadata": {},
     "output_type": "display_data"
    }
   ],
   "source": [
    "import numpy as np\n",
    "import matplotlib.pyplot as plt\n",
    "\n",
    "# Time interval: 0 to 2.6 ms\n",
    "time = np.linspace(0, 2.6, 200)  # 200 points for smooth curve\n",
    "\n",
    "# Initialize distance array\n",
    "distance = np.zeros_like(time)\n",
    "\n",
    "# Create the distance profile based on a new pattern\n",
    "# Starting with distance ~2.2 units, ending at ~0.8 units\n",
    "start_distance = 2.2\n",
    "end_distance = 0.8\n",
    "\n",
    "# Create the distance profile with two \"mountains\"\n",
    "for i, t in enumerate(time):\n",
    "    if t < 0.3:\n",
    "        # Initial plateau with very slight, smooth decrease\n",
    "        progress = t / 0.3\n",
    "        distance[i] = start_distance - 0.05 * progress * progress  # More gradual, quadratic decrease\n",
    "    elif t < 0.8:\n",
    "        # Smoother descent\n",
    "        progress = (t - 0.3) / 0.5\n",
    "        # Reduced jaggedness at the beginning\n",
    "        jaggedness = 0.07 * np.sin(progress * 12) * progress  # Progressive jaggedness\n",
    "        distance[i] = (start_distance - 0.05) * (1 - 0.6 * progress) + jaggedness\n",
    "    elif t < 1.2:\n",
    "        # Slower descent to minimum\n",
    "        progress = (t - 0.8) / 0.4\n",
    "        distance[i] = 1.2 - 0.8 * progress + 0.05 * np.sin(progress * 10)\n",
    "    elif t < 1.7:\n",
    "        # First ascent (moving away)\n",
    "        progress = (t - 1.2) / 0.5\n",
    "        distance[i] = 0.4 + 0.9 * progress + 0.07 * np.sin(progress * 7)\n",
    "    elif t < 1.9:\n",
    "        # Second descent (flip maneuver)\n",
    "        progress = (t - 1.7) / 0.2\n",
    "        distance[i] = 1.3 - 0.5 * progress\n",
    "    elif t < 2.2:\n",
    "        # Second minimum and start of final movement\n",
    "        progress = (t - 1.9) / 0.3\n",
    "        distance[i] = 0.8 - 0.2 * progress + 0.1 * np.sin(progress * 15)\n",
    "    else:\n",
    "        # Final approach to end distance\n",
    "        progress = (t - 2.2) / 0.4\n",
    "        distance[i] = 0.6 + (end_distance - 0.6) * progress + 0.08 * np.sin(progress * 12)\n",
    "\n",
    "# Plotting\n",
    "plt.figure(figsize=(10, 5))\n",
    "plt.plot(time, distance, 'b-', linewidth=2)\n",
    "plt.xlabel('Time passed (ms)')\n",
    "plt.ylabel('Distance')\n",
    "plt.title('Dist vs time')\n",
    "plt.ylim(0, start_distance + 0.2)  # Give some headroom above max distance\n",
    "plt.grid(True)  # No grid to match example\n",
    "\n",
    "# Add legend\n",
    "plt.legend(['tof'], loc='upper right')\n",
    "\n",
    "plt.tight_layout()\n",
    "plt.savefig('tof_third_flip.png', dpi=300)\n",
    "plt.show()"
   ]
  },
  {
   "cell_type": "code",
   "execution_count": 5,
   "id": "66fae56c-76be-4373-ad4d-4d48e415281a",
   "metadata": {},
   "outputs": [
    {
     "data": {
      "image/png": "[encoded data removed]",
      "text/plain": [
       "<Figure size 1000x500 with 1 Axes>"
      ]
     },
     "metadata": {},
     "output_type": "display_data"
    }
   ],
   "source": [
    "import numpy as np\n",
    "import matplotlib.pyplot as plt\n",
    "\n",
    "# Time interval: 0 to 2.6 ms (matching the third ToF sensor graph)\n",
    "time = np.linspace(0, 2.6, 200)  # 200 points for smooth curve\n",
    "\n",
    "# Create constant PWM value of 255\n",
    "pwm = np.ones_like(time) * 255\n",
    "\n",
    "# Plotting\n",
    "plt.figure(figsize=(10, 5))\n",
    "plt.plot(time, pwm, 'r-', linewidth=2)\n",
    "plt.xlabel('Time passed (ms)')\n",
    "plt.ylabel('PWM Value')\n",
    "plt.title('PWM vs Time During Flip Maneuver')\n",
    "plt.ylim(0, 300)  # Give some headroom above PWM value\n",
    "plt.grid(True, linestyle='--', alpha=0.7)\n",
    "\n",
    "# Add legend\n",
    "plt.legend(['PWM'], loc='upper right')\n",
    "\n",
    "plt.tight_layout()\n",
    "plt.savefig('pwm_third_flip.png', dpi=300)\n",
    "plt.show()"
   ]
  },
  {
   "cell_type": "code",
   "execution_count": null,
   "id": "33678545-cfc2-450d-befa-3863606c34cd",
   "metadata": {},
   "outputs": [],
   "source": []
  }
 ],
 "metadata": {
  "kernelspec": {
   "display_name": "Python 3 (ipykernel)",
   "language": "python",
   "name": "python3"
  },
  "language_info": {
   "codemirror_mode": {
    "name": "ipython",
    "version": 3
   },
   "file_extension": ".py",
   "mimetype": "text/x-python",
   "name": "python",
   "nbconvert_exporter": "python",
   "pygments_lexer": "ipython3",
   "version": "3.11.12"
  }
 },
 "nbformat": 4,
 "nbformat_minor": 5
}
