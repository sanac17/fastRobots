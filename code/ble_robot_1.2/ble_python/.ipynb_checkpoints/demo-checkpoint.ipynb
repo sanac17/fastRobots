{
 "cells": [
  {
   "cell_type": "markdown",
   "metadata": {},
   "source": [
    "## Import necessary modules\n",
    "Run this cell before running any other cells"
   ]
  },
  {
   "cell_type": "code",
   "execution_count": 6,
   "metadata": {},
   "outputs": [
    {
     "name": "stdout",
     "output_type": "stream",
     "text": [
      "The autoreload extension is already loaded. To reload it, use:\n",
      "  %reload_ext autoreload\n"
     ]
    }
   ],
   "source": [
    "%load_ext autoreload\n",
    "%autoreload 2\n",
    "\n",
    "\n",
    "from scipy.optimize import curve_fit\n",
    "import matplotlib.pyplot as plt \n",
    "\n",
    "from ble import get_ble_controller\n",
    "from base_ble import LOG\n",
    "from cmd_types import CMD\n",
    "import time\n",
    "import numpy as np\n",
    "\n",
    "LOG.propagate = False"
   ]
  },
  {
   "cell_type": "markdown",
   "metadata": {},
   "source": [
    "# Printing and Logging\n",
    "## Printing\n",
    "You can use the **print()** function in Python to print messages to the screen. <br>\n",
    "The message can be a string, or any other object, the object will be converted into a string before it is written to the screen. <br>\n",
    "\n",
    "## Logging\n",
    "You could use the logging module that is setup in *utils.py*. <br>\n",
    "It prints to both your screen (standard output) as well as to log files (*ble.log*) in the *logs* directory. <br>\n",
    "This is the recommended way to output messages, since the log files can help with debugging. <br>\n",
    "The logging module also provides different log levels as shown below, each formatted with a different color for increased visibility. <br>\n",
    "\n",
    "__**NOTE**__: You may notice that the DEBUG message is not printed to the screen but is printed in the log file. This is because the logging level for the screen is set to INFO and for the file is set to DEBUG. You can change the default log levels in *utils.py* (**STREAM_LOG_LEVEL** and **FILE_LOG_LEVEL**). \n",
    "\n",
    "## Formatting output\n",
    "To format your strings, you may use %-formatting, str.format() or f-strings. <br>\n",
    "The most \"pythonic\" way would be to use f-strings. [Here](https://realpython.com/python-f-strings/) is a good tutorial on f-strings. <br>"
   ]
  },
  {
   "cell_type": "code",
   "execution_count": 2,
   "metadata": {},
   "outputs": [
    {
     "name": "stdout",
     "output_type": "stream",
     "text": [
      "2025-03-17 22:13:55,891 |\u001b[32m INFO     \u001b[0m|: info\n",
      "2025-03-17 22:13:55,892 |\u001b[33m WARNING  \u001b[0m|: warning\n",
      "2025-03-17 22:13:55,893 |\u001b[31m ERROR    \u001b[0m|: error\n",
      "2025-03-17 22:13:55,894 |\u001b[31m\u001b[47m\u001b[1m CRITICAL \u001b[0m|: critical\n"
     ]
    }
   ],
   "source": [
    "LOG.debug(\"debug\")\n",
    "LOG.info(\"info\")\n",
    "LOG.warning(\"warning\")\n",
    "LOG.error(\"error\")\n",
    "LOG.critical(\"critical\")"
   ]
  },
  {
   "cell_type": "markdown",
   "metadata": {},
   "source": [
    "<hr>\n",
    "\n",
    "# BLE\n",
    "## ArtemisBLEController\n",
    "The class **ArtemisBLEController** (defined in *ble.py*) provides member functions to handle various BLE operations to send and receive data to/from the Artemis board, provided the accompanying Arduino sketch is running on the Artemis board. <br>\n",
    "\n",
    "<table align=\"left\">\n",
    "     <tr>\n",
    "        <th style=\"text-align: left; font-size: medium\">Member Functions</th>\n",
    "        <th style=\"text-align: left; font-size: medium\">Description</th style=\"text-align: left\">\n",
    "    </tr>\n",
    "    <tr>\n",
    "        <th style=\"text-align: left\"><span style=\"color:rgb(201,152,4);font-family:monospace\">reload_config()</span></th>\n",
    "        <th style=\"text-align: left\"><span style=\"font-weight: normal\">Reload changes made in <em>connection.yaml.</em></span></th style=\"text-align: left\">\n",
    "    </tr>\n",
    "    <tr>\n",
    "        <th style=\"text-align: left\"><span style=\"color:rgb(201,152,4);font-family:monospace\">connect()</span></th>\n",
    "        <th style=\"text-align: left\"><span style=\"font-weight: normal\">Connect to the Artemis board, whose MAC address is specified in <em>connection.yaml</em>.</span></th>\n",
    "    </tr>\n",
    "    <tr>\n",
    "        <th style=\"text-align: left\"><span style=\"color:rgb(201,152,4);font-family:monospace\">disconnect()</span></th>\n",
    "        <th style=\"text-align: left\"><span style=\"font-weight: normal\">Disconnect from the Artemis board.</span></th>\n",
    "    </tr>\n",
    "    <tr>\n",
    "        <th style=\"text-align: left\"><span style=\"color:rgb(201,152,4);font-family:monospace\">is_connected()</span></th>\n",
    "        <th style=\"text-align: left\"><span style=\"font-weight: normal\">Return a boolean indicating whether your controller is connected to the Artemis board or not.</span></th>\n",
    "    </tr>\n",
    "    <tr>\n",
    "        <th style=\"text-align: left\"><span style=\"color:rgb(201,152,4);font-family:monospace\">send_command(cmd_type, data)</span></th>\n",
    "        <th style=\"text-align: left\"><span style=\"font-weight: normal\">Send the command <strong>cmd_type</strong> (integer) with <strong>data</strong> (string) to the Artemis board.</span></th>\n",
    "    </tr>\n",
    "    <tr>\n",
    "        <th style=\"text-align: left\"><span style=\"color:rgb(201,152,4);font-family:monospace\">receive_float(uuid) <br> receive_string(uuid) <br> receive_int(uuid)</span></th>\n",
    "        <th style=\"text-align: left\"><span style=\"font-weight: normal\">Read the GATT characteristic (specified by its <strong>uuid</strong>) of type float, string or int. <br> The type of the GATT\n",
    "            characteristic is determined by the classes BLEFloatCharacteristic, BLECStringCharacteristic or\n",
    "            BLEIntCharacteristic in the Arduino sketch.</span></th>\n",
    "    </tr>\n",
    "    <tr>\n",
    "        <th style=\"text-align: left\"><span style=\"color:rgb(201,152,4);font-family:monospace\">start_notify(uuid, notification_handler)</span></th>\n",
    "        <th style=\"text-align: left\"><span style=\"font-weight: normal\">Activate notifications on the GATT characteristic (specified by its <strong>uuid</strong>). <br> <strong>notification_handler</strong> is a\n",
    "            function callback which must accept two inputs; the first will be a uuid string object and the second will\n",
    "            be the bytearray of the characteristic value.</span></th>\n",
    "    </tr>\n",
    "    <tr>\n",
    "        <th style=\"text-align: left\"><span style=\"color:rgb(201,152,4);font-family:monospace\">bytearray_to_float(byte_array) <br> bytearray_to_string(byte_array) <br> bytearray_to_int(byte_array)</span></th>\n",
    "        <th style=\"text-align: left\"><span style=\"font-weight: normal\">Convert the <strong>bytearray</strong> to float, string or int, respectively. <br> You may use these functions inside your\n",
    "            notification callback function.</span></th>\n",
    "    </tr>\n",
    "    <tr>\n",
    "        <th style=\"text-align: left\"><span style=\"color:rgb(201,152,4);font-family:monospace\">stop_notify(uuid)</span></th>\n",
    "        <th style=\"text-align: left\"><span style=\"font-weight: normal\">Stop notifications on the GATT characteristic (specified by its <strong>uuid</strong>).</span></th>\n",
    "    </tr>\n",
    "</table>\n",
    "\n",
    "<table align=\"left\">\n",
    "     <tr>\n",
    "        <th style=\"text-align: left; font-size: medium\">Member Variables</th>\n",
    "        <th style=\"text-align: left; font-size: medium\">Description</th style=\"text-align: left\">\n",
    "    </tr>\n",
    "    <tr>\n",
    "        <th style=\"text-align: left\"><span style=\"color:rgb(201,152,4);font-family:monospace\">uuid</span></th>\n",
    "        <th style=\"text-align: left\"><span style=\"font-weight: normal\">A dictionary that stores the UUIDs of the various characteristics specified in <em>connection.yaml</em>.</span></th>\n",
    "    </tr>\n",
    "</table>"
   ]
  },
  {
   "cell_type": "markdown",
   "metadata": {},
   "source": [
    "## Configuration\n",
    "- The MAC address, Service UUID and GATT characteristic UUIDs are defined in the file: *connection.yaml*.\n",
    "- They should match the UUIDs used in the Arduino sketch.\n",
    "- The artemis board running the base code should display its MAC address in the serial monitor.\n",
    "- Update the **artemis_address** in *connection.yaml*, accordingly.\n",
    "- Make sure to call **ble.reload_config()** or **get_ble_controller()** (which internally calls **reload_config()**) after making any changes to your configuration file.\n",
    "\n",
    "<hr>"
   ]
  },
  {
   "cell_type": "markdown",
   "metadata": {},
   "source": [
    "In the below cell, we create an **ArtemisBLEController** object using **get_ble_controller()** (defined in *ble.py*), which creates and/or returns a single instance of **ArtemisBLEController**. <br>\n",
    "<span style=\"color:rgb(240,50,50)\"> __NOTE__: Do not use the class directly to instantiate an object. </span><br>"
   ]
  },
  {
   "cell_type": "code",
   "execution_count": 27,
   "metadata": {},
   "outputs": [
    {
     "name": "stdout",
     "output_type": "stream",
     "text": [
      "2025-03-17 22:34:35,533 |\u001b[32m INFO     \u001b[0m|: Looking for Artemis Nano Peripheral Device: c0:81:e4:22:02:64\n",
      "2025-03-17 22:34:38,333 |\u001b[32m INFO     \u001b[0m|: Connected to c0:81:e4:22:02:64\n"
     ]
    }
   ],
   "source": [
    "# Get ArtemisBLEController object\n",
    "ble = get_ble_controller()\n",
    "\n",
    "\n",
    "# Connect to the Artemis Device\n",
    "ble.connect()"
   ]
  },
  {
   "cell_type": "markdown",
   "metadata": {},
   "source": [
    "## Receive data from the Artemis board"
   ]
  },
  {
   "cell_type": "markdown",
   "metadata": {},
   "source": [
    "The cell below shows examples of reading different types (as defined in the Arduino sketch) of GATT characteristics."
   ]
  },
  {
   "cell_type": "code",
   "execution_count": null,
   "metadata": {},
   "outputs": [],
   "source": [
    "# Read a float GATT Charactersistic\n",
    "f = ble.receive_float(ble.uuid['RX_FLOAT'])\n",
    "print(f)"
   ]
  },
  {
   "cell_type": "code",
   "execution_count": null,
   "metadata": {},
   "outputs": [],
   "source": [
    "# Read a string GATT Charactersistic\n",
    "s = ble.receive_string(ble.uuid['RX_STRING'])\n",
    "print(s)"
   ]
  },
  {
   "cell_type": "markdown",
   "metadata": {},
   "source": [
    "## Send a command to the Artemis board\n",
    "Send the PING command and read the reply string from the string characteristic RX_STRING. <br>\n",
    "__NOTE__: The **send_command()** essentially sends a string data to the GATT characteristic (TX_CMD_STRING). The GATT characteristic in the Arduino sketch is of type BLECStringCharacteristic."
   ]
  },
  {
   "cell_type": "code",
   "execution_count": null,
   "metadata": {},
   "outputs": [],
   "source": [
    "ble.send_command(CMD.PING, \"\")"
   ]
  },
  {
   "cell_type": "code",
   "execution_count": null,
   "metadata": {},
   "outputs": [],
   "source": [
    "s = ble.receive_string(ble.uuid['RX_STRING'])\n",
    "print(s)"
   ]
  },
  {
   "cell_type": "markdown",
   "metadata": {},
   "source": [
    "The cell below shows an example of the SEND_TWO_INTS command. <br> The two values in the **data** are separated by a delimiter \"|\". <br>\n",
    "Refer Lab 2 documentation for more information on the command protocol."
   ]
  },
  {
   "cell_type": "code",
   "execution_count": null,
   "metadata": {},
   "outputs": [],
   "source": [
    "ble.send_command(CMD.SEND_TWO_INTS, \"2|-6\")"
   ]
  },
  {
   "cell_type": "markdown",
   "metadata": {},
   "source": [
    "The Artemis board should print the two integers to the serial monitor in the ArduinoIDE. "
   ]
  },
  {
   "cell_type": "markdown",
   "metadata": {},
   "source": [
    "## Lab 8 Code"
   ]
  },
  {
   "cell_type": "code",
   "execution_count": 28,
   "metadata": {},
   "outputs": [],
   "source": [
    "data = \"\"\n",
    "timeArr = [] \n",
    "angles_ori = [] \n",
    "pwm_ori = []\n",
    "error_ori = [] \n",
    "\n",
    "def notification_handler_pid(uuid, array): \n",
    "    global timeArr\n",
    "    global tof_pid\n",
    "    global pwm_pid\n",
    "\n",
    "    s = ble.bytearray_to_string(array)\n",
    "    data = s\n",
    "    if \"*\" in data: \n",
    "        arr = s.split(\"*\")\n",
    "        timeArr.append(arr[0])\n",
    "        angles_ori.append(arr[1])\n",
    "        pwm_ori.append(arr[2])\n",
    "        error_ori.append(arr[3])\n"
   ]
  },
  {
   "cell_type": "code",
   "execution_count": 29,
   "metadata": {
    "collapsed": true,
    "jupyter": {
     "outputs_hidden": true
    }
   },
   "outputs": [
    {
     "name": "stdout",
     "output_type": "stream",
     "text": [
      "2025-03-17 22:36:10,438 |\u001b[32m INFO     \u001b[0m|: Disconnected from B9E76412-E4C0-18B7-0B21-A6BEFE645FB5\n"
     ]
    }
   ],
   "source": [
    "ble.start_notify(ble.uuid['RX_STRING'], notification_handler_pid)\n",
    "ble.send_command(CMD.START_PID_ORI, \"4.0|0.15|0\")"
   ]
  },
  {
   "cell_type": "code",
   "execution_count": null,
   "metadata": {},
   "outputs": [],
   "source": [
    "ble.send_command(CMD.STOP_CAR,\"\")"
   ]
  },
  {
   "cell_type": "code",
   "execution_count": null,
   "metadata": {},
   "outputs": [],
   "source": [
    "ble.stop_notify(ble.uuid['RX_STRING']"
   ]
  },
  {
   "cell_type": "code",
   "execution_count": null,
   "metadata": {},
   "outputs": [],
   "source": [
    "ble.send_command(CMD.SEND_ORI_DATA,\"\")"
   ]
  },
  {
   "cell_type": "code",
   "execution_count": null,
   "metadata": {},
   "outputs": [],
   "source": []
  },
  {
   "cell_type": "code",
   "execution_count": null,
   "metadata": {},
   "outputs": [],
   "source": [
    "# graphs "
   ]
  },
  {
   "cell_type": "markdown",
   "metadata": {},
   "source": [
    "## Lab 7 Code"
   ]
  },
  {
   "cell_type": "code",
   "execution_count": null,
   "metadata": {},
   "outputs": [],
   "source": [
    "data = \"\"\n",
    "timeArr = [] \n",
    "tof_pid = [] \n",
    "pwm_pid = []\n",
    "\n",
    "def notification_handler_pid(uuid, array): \n",
    "    global timeArr\n",
    "    global tof_pid\n",
    "    global pwm_pid\n",
    "\n",
    "    s = ble.bytearray_to_string(array)\n",
    "    data = s\n",
    "    if \"*\" in data: \n",
    "        arr = s.split(\"*\")\n",
    "        timeArr.append(arr[0])\n",
    "        tof_pid.append(arr[1])\n",
    "        pwm_pid.append(arr[2])"
   ]
  },
  {
   "cell_type": "code",
   "execution_count": null,
   "metadata": {},
   "outputs": [],
   "source": [
    "ble.start_notify(ble.uuid['RX_STRING'], notification_handler_pid)\n",
    "ble.send_command(CMD.RUN_PID, \"\")"
   ]
  },
  {
   "cell_type": "code",
   "execution_count": null,
   "metadata": {},
   "outputs": [],
   "source": [
    "ble.send_command(CMD.STOP_CAR,\"\")"
   ]
  },
  {
   "cell_type": "code",
   "execution_count": null,
   "metadata": {},
   "outputs": [],
   "source": [
    "ble.send_command(CMD.SEND_PID_DATA)"
   ]
  },
  {
   "cell_type": "code",
   "execution_count": null,
   "metadata": {},
   "outputs": [],
   "source": [
    "ble.stop_notify(ble.uuid['RX_STRING']) "
   ]
  },
  {
   "cell_type": "code",
   "execution_count": null,
   "metadata": {},
   "outputs": [],
   "source": []
  },
  {
   "cell_type": "markdown",
   "metadata": {},
   "source": [
    "**Task 1**"
   ]
  },
  {
   "cell_type": "code",
   "execution_count": null,
   "metadata": {},
   "outputs": [],
   "source": [
    "ble.send_command(CMD.ECHO, \"Hello\")"
   ]
  },
  {
   "cell_type": "code",
   "execution_count": null,
   "metadata": {},
   "outputs": [],
   "source": [
    "s = ble.receive_string(ble.uuid['RX_STRING'])\n",
    "print(s)"
   ]
  },
  {
   "cell_type": "markdown",
   "metadata": {},
   "source": [
    "**TASK 2**"
   ]
  },
  {
   "cell_type": "code",
   "execution_count": null,
   "metadata": {},
   "outputs": [],
   "source": [
    "ble.send_command(CMD.SEND_THREE_FLOATS, \"2.0|3.0|4.0\")"
   ]
  },
  {
   "cell_type": "markdown",
   "metadata": {},
   "source": [
    "**TASK 3**"
   ]
  },
  {
   "cell_type": "code",
   "execution_count": null,
   "metadata": {},
   "outputs": [],
   "source": [
    "ble.send_command(CMD.GET_TIME_MILLIS, \"\")"
   ]
  },
  {
   "cell_type": "code",
   "execution_count": null,
   "metadata": {},
   "outputs": [],
   "source": [
    "s = ble.receive_string(ble.uuid['RX_STRING'])\n",
    "print(s)"
   ]
  },
  {
   "cell_type": "markdown",
   "metadata": {},
   "source": [
    "**TASK 4/5**"
   ]
  },
  {
   "cell_type": "code",
   "execution_count": null,
   "metadata": {},
   "outputs": [],
   "source": [
    "tim = \"\" \n",
    "timeArr = [] \n",
    "tempArr = [] \n",
    "receive_time = 0\n",
    "def notification_handler(uuid, array): \n",
    "    global timeArr\n",
    "    global tempArr\n",
    "    global tim \n",
    "    global receive_time\n",
    "    s = ble.bytearray_to_string(array)\n",
    "    timeArr.append(s) \n",
    "    tim = s\n",
    "    if \"*\" in s: \n",
    "        arr = s.split(\"*\")\n",
    "        timeArr.append(arr[0])\n",
    "        tempArr.append(arr[1])\n",
    "    # if \"T\" in s: \n",
    "    #     time = s.split(\":\")[1]\n",
    "    # else: time = s \n",
    "    print(tim)"
   ]
  },
  {
   "cell_type": "code",
   "execution_count": null,
   "metadata": {},
   "outputs": [],
   "source": [
    "ble.start_notify(ble.uuid['RX_STRING'], notification_handler)\n",
    "ble.send_command(CMD.GET_TIME_MILLIS, \"\")"
   ]
  },
  {
   "cell_type": "code",
   "execution_count": null,
   "metadata": {},
   "outputs": [],
   "source": [
    "ble.stop_notify(ble.uuid['RX_STRING']) "
   ]
  },
  {
   "cell_type": "code",
   "execution_count": null,
   "metadata": {},
   "outputs": [],
   "source": [
    "ble.start_notify(ble.uuid['RX_STRING'], notification_handler)\n",
    "ble.send_command(CMD.GET_TIME_LOOP, \"\")"
   ]
  },
  {
   "cell_type": "code",
   "execution_count": null,
   "metadata": {},
   "outputs": [],
   "source": [
    "print(len(timeArr))"
   ]
  },
  {
   "cell_type": "code",
   "execution_count": null,
   "metadata": {},
   "outputs": [],
   "source": [
    "ble.stop_notify(ble.uuid['RX_STRING']) "
   ]
  },
  {
   "cell_type": "markdown",
   "metadata": {},
   "source": [
    "**TASK 6**"
   ]
  },
  {
   "cell_type": "code",
   "execution_count": null,
   "metadata": {},
   "outputs": [],
   "source": [
    "ble.start_notify(ble.uuid['RX_STRING'], notification_handler)\n",
    "ble.send_command(CMD.SEND_TIME_DATA, \"\")"
   ]
  },
  {
   "cell_type": "code",
   "execution_count": null,
   "metadata": {},
   "outputs": [],
   "source": [
    "ble.stop_notify(ble.uuid['RX_STRING']) "
   ]
  },
  {
   "cell_type": "markdown",
   "metadata": {},
   "source": [
    "**TASK 7**"
   ]
  },
  {
   "cell_type": "code",
   "execution_count": null,
   "metadata": {},
   "outputs": [],
   "source": [
    "ble.start_notify(ble.uuid['RX_STRING'], notification_handler)\n",
    "ble.send_command(CMD.GET_TEMP_READINGS, \"\")"
   ]
  },
  {
   "cell_type": "code",
   "execution_count": null,
   "metadata": {},
   "outputs": [],
   "source": [
    "ble.stop_notify(ble.uuid['RX_STRING']) "
   ]
  },
  {
   "cell_type": "markdown",
   "metadata": {},
   "source": [
    "**5000 Level Tasks**"
   ]
  },
  {
   "cell_type": "code",
   "execution_count": null,
   "metadata": {},
   "outputs": [],
   "source": [
    "avg_time = 0 \n",
    "data = \"AAAAA\" \n",
    "incr = 115//5 \n",
    "\n",
    "def performance(): \n",
    "    start_time = time.time() \n",
    "    ble.send_command(CMD.PERFORMANCE, data) \n",
    "    s = ble.receive_string(ble.uuid['RX_STRING']) \n",
    "    receive_time = time.time() \n",
    "    avg_time = receive_time - start_time \n",
    "    print(s) \n",
    "    return avg_time "
   ]
  },
  {
   "cell_type": "code",
   "execution_count": null,
   "metadata": {},
   "outputs": [],
   "source": [
    "for i in range(5):\n",
    "    data_time = performance() \n",
    "    print(\"Total time: \",data_time) \n",
    "    num_bytes = len(data) \n",
    "    print(\"Byte size: \", num_bytes) \n",
    "    data_rate = num_bytes/data_time\n",
    "    data = data + (\"A\" * incr)\n",
    "    print(\"Data rate: \",data_rate) \n",
    "\n",
    "data = \"A\" * 120 \n",
    "data_time = performance() \n",
    "num_bytes = len(data) \n",
    "data_rate = num_bytes/data_time\n",
    "print(\"Data rate: \",data_rate) \n",
    "print(\"Time: \",data_time) \n",
    "print(\"Byte size: \", num_bytes) "
   ]
  },
  {
   "cell_type": "code",
   "execution_count": null,
   "metadata": {},
   "outputs": [],
   "source": [
    "start_time = 0\n",
    "receive_time = 0 "
   ]
  },
  {
   "cell_type": "code",
   "execution_count": null,
   "metadata": {},
   "outputs": [],
   "source": []
  },
  {
   "cell_type": "code",
   "execution_count": null,
   "metadata": {},
   "outputs": [],
   "source": [
    "data = \"A\" * 30 \n",
    "start_time = time.time() \n",
    "ble.send_command(CMD.PERFORMANCE, data) "
   ]
  },
  {
   "cell_type": "code",
   "execution_count": null,
   "metadata": {},
   "outputs": [],
   "source": [
    "s = ble.receive_string(ble.uuid['RX_STRING'])\n",
    "receive_time = time.time() "
   ]
  },
  {
   "cell_type": "markdown",
   "metadata": {},
   "source": [
    "avg_time = receive_time - start_time \n",
    "print(avg_time)"
   ]
  },
  {
   "cell_type": "code",
   "execution_count": null,
   "metadata": {},
   "outputs": [],
   "source": []
  },
  {
   "cell_type": "markdown",
   "metadata": {},
   "source": [
    "## Lab 2 Code"
   ]
  },
  {
   "cell_type": "code",
   "execution_count": null,
   "metadata": {},
   "outputs": [],
   "source": [
    "timeArr = []\n",
    "rollArr = [] \n",
    "rollArr_filt = [] \n",
    "\n",
    "def notification_handler_2(uuid, array): \n",
    "    global timeArr\n",
    "    global rollArr\n",
    "    global rollArr_filt\n",
    "    \n",
    "    s = ble.bytearray_to_string(array)\n",
    "\n",
    "    if \"*\" in s: \n",
    "        arr = s.split(\"*\")\n",
    "        timeArr.append(float(arr[0]))\n",
    "        rollArr.append(float(arr[1]))\n",
    "        rollArr_filt.append(float(arr[2]))"
   ]
  },
  {
   "cell_type": "code",
   "execution_count": null,
   "metadata": {},
   "outputs": [],
   "source": [
    "ble.start_notify(ble.uuid['RX_STRING'], notification_handler_2)\n",
    "ble.send_command(CMD.GET_ROLL_DATA, \"\")"
   ]
  },
  {
   "cell_type": "code",
   "execution_count": null,
   "metadata": {},
   "outputs": [],
   "source": [
    "ble.stop_notify(ble.uuid['RX_STRING'])"
   ]
  },
  {
   "cell_type": "code",
   "execution_count": null,
   "metadata": {},
   "outputs": [],
   "source": [
    "timeArr_p = []\n",
    "pitchArr = [] \n",
    "pitchArr_filt = [] \n",
    "\n",
    "def notification_handler_pitch(uuid, array): \n",
    "    global timeArr_p\n",
    "    global pitchArr\n",
    "    global pitchArr_filt\n",
    "    \n",
    "    s = ble.bytearray_to_string(array)\n",
    "\n",
    "    if \"*\" in s: \n",
    "        arr = s.split(\"*\")\n",
    "        timeArr_p.append(float(arr[0]))\n",
    "        pitchArr.append(float(arr[1])) \n",
    "        pitchArr_filt.append(float(arr[2])) "
   ]
  },
  {
   "cell_type": "code",
   "execution_count": null,
   "metadata": {},
   "outputs": [],
   "source": [
    "ble.start_notify(ble.uuid['RX_STRING'], notification_handler_pitch)\n",
    "ble.send_command(CMD.GET_PITCH_DATA, \"\")"
   ]
  },
  {
   "cell_type": "code",
   "execution_count": null,
   "metadata": {},
   "outputs": [],
   "source": [
    "print(len(pitchArr))"
   ]
  },
  {
   "cell_type": "code",
   "execution_count": null,
   "metadata": {},
   "outputs": [],
   "source": [
    "ble.stop_notify(ble.uuid['RX_STRING']) "
   ]
  },
  {
   "cell_type": "code",
   "execution_count": null,
   "metadata": {},
   "outputs": [],
   "source": [
    "print(timeArr_p[:10])"
   ]
  },
  {
   "cell_type": "code",
   "execution_count": null,
   "metadata": {},
   "outputs": [],
   "source": [
    "print(pitchArr[:100])"
   ]
  },
  {
   "cell_type": "code",
   "execution_count": null,
   "metadata": {},
   "outputs": [],
   "source": [
    "print(rollArr[:10])"
   ]
  },
  {
   "cell_type": "code",
   "execution_count": null,
   "metadata": {},
   "outputs": [],
   "source": [
    "rollArr = [float(value) for value in rollArr]"
   ]
  },
  {
   "cell_type": "code",
   "execution_count": null,
   "metadata": {},
   "outputs": [],
   "source": [
    "import matplotlib.pyplot as plt"
   ]
  },
  {
   "cell_type": "code",
   "execution_count": null,
   "metadata": {},
   "outputs": [],
   "source": [
    "x_values = timeArr[1:]\n",
    "y_values = rollArr[1:]\n",
    "y_values_filt = rollArr_filt[1:]\n",
    "\n",
    "plt.figure(figsize=(12, 8))\n",
    "plt.plot(x_values, y_values, color='blue', alpha=0.6, label=\"Unfiltered\")\n",
    "plt.plot(x_values, y_values_filt, color='orange', alpha=0.6, label=\"Filtered\")\n",
    "\n",
    "# Labels and title\n",
    "plt.xlabel(\"Time (ms)\")\n",
    "plt.ylabel(\"Roll (degrees)\")\n",
    "\n",
    "plt.title(\"Roll vs Time Data\")\n",
    "plt.legend()\n",
    "plt.show()"
   ]
  },
  {
   "cell_type": "code",
   "execution_count": null,
   "metadata": {},
   "outputs": [],
   "source": [
    "x_values = timeArr_p[1:]\n",
    "y_values = pitchArr[1:]\n",
    "y_values_filt = pitchArr_filt[1:]\n",
    "\n",
    "plt.figure(figsize=(12, 8))\n",
    "plt.plot(x_values, y_values, color='blue', alpha=0.6, label=\"Unfiltered\")\n",
    "plt.plot(x_values, y_values_filt, color='orange', alpha=0.6, label=\"Filtered\")\n",
    "\n",
    "# Labels and title\n",
    "plt.xlabel(\"Time (ms) \")\n",
    "plt.ylabel(\"Pitch (degrees)\")\n",
    "\n",
    "plt.title(\"Pitch vs Time Data\")\n",
    "plt.legend()\n",
    "plt.show()"
   ]
  },
  {
   "cell_type": "code",
   "execution_count": null,
   "metadata": {},
   "outputs": [],
   "source": [
    "time = np.array(timeArr, dtype=float)\n",
    "roll = np.array(rollArr, dtype=float)\n"
   ]
  },
  {
   "cell_type": "code",
   "execution_count": null,
   "metadata": {},
   "outputs": [],
   "source": [
    "# Convert time to seconds\n",
    "time_sec = time / 1000.0"
   ]
  },
  {
   "cell_type": "code",
   "execution_count": null,
   "metadata": {},
   "outputs": [],
   "source": [
    "dt = (time_sec[1]) - (time_sec[0])  # Time interval between consecutive samples\n",
    "fs = 1 / dt  "
   ]
  },
  {
   "cell_type": "code",
   "execution_count": null,
   "metadata": {},
   "outputs": [],
   "source": [
    "sampling_rate = len(time_sec) / (   time_sec[len(time_sec)-1] - time_sec[0]    )\n",
    "print(sampling_rate)"
   ]
  },
  {
   "cell_type": "code",
   "execution_count": null,
   "metadata": {},
   "outputs": [],
   "source": [
    "n = len(roll)  # Number of samples\n",
    "fft_result_r = np.fft.fft(roll)  # FFT of roll data\n",
    "frequencies = np.fft.fftfreq(n, d=dt)  # Frequency bins"
   ]
  },
  {
   "cell_type": "code",
   "execution_count": null,
   "metadata": {},
   "outputs": [],
   "source": [
    "positive_freqs = frequencies[:n // 2]\n",
    "magnitude_r = np.abs(fft_result_r[:n // 2])"
   ]
  },
  {
   "cell_type": "code",
   "execution_count": null,
   "metadata": {},
   "outputs": [],
   "source": [
    "plt.figure(figsize=(10, 6))\n",
    "plt.plot(positive_freqs, magnitude_r, label=\"FFT of Roll Data\")\n",
    "plt.xlabel(\"Frequency (Hz)\")\n",
    "plt.ylabel(\"Magnitude\")\n",
    "plt.title(\"Frequency Spectrum of Roll Data\")\n",
    "plt.grid(True)\n",
    "plt.legend()\n",
    "plt.show()"
   ]
  },
  {
   "cell_type": "code",
   "execution_count": null,
   "metadata": {},
   "outputs": [],
   "source": [
    "time_p = np.array(timeArr_p, dtype=float)\n",
    "pitch = np.array(pitchArr, dtype=float)"
   ]
  },
  {
   "cell_type": "code",
   "execution_count": null,
   "metadata": {},
   "outputs": [],
   "source": [
    "# Convert time to seconds\n",
    "time_sec_p = time_p / 1000.0"
   ]
  },
  {
   "cell_type": "code",
   "execution_count": null,
   "metadata": {},
   "outputs": [],
   "source": [
    "dt = (time_sec_p[1]) - (time_sec_p[0])  # Time interval between consecutive samples\n",
    "fs = 1 / dt  "
   ]
  },
  {
   "cell_type": "code",
   "execution_count": null,
   "metadata": {},
   "outputs": [],
   "source": [
    "n = len(pitch)  # Number of samples\n",
    "fft_result_p = np.fft.fft(pitch)  # FFT of roll data\n",
    "frequencies_p = np.fft.fftfreq(n, d=dt)  # Frequency bins"
   ]
  },
  {
   "cell_type": "code",
   "execution_count": null,
   "metadata": {},
   "outputs": [],
   "source": [
    "positive_freqs_p = frequencies_p[:n // 2]\n",
    "magnitude_p = np.abs(fft_result_p[:n // 2])"
   ]
  },
  {
   "cell_type": "code",
   "execution_count": null,
   "metadata": {},
   "outputs": [],
   "source": [
    "plt.figure(figsize=(10, 6))\n",
    "plt.plot(positive_freqs_p, magnitude_p, label=\"FFT of Pitch Data\")\n",
    "plt.xlabel(\"Frequency (Hz)\")\n",
    "plt.ylabel(\"Magnitude\")\n",
    "plt.title(\"Frequency Spectrum of Pitch Data\")\n",
    "plt.grid(True)\n",
    "plt.legend()\n",
    "plt.show()"
   ]
  },
  {
   "cell_type": "markdown",
   "metadata": {},
   "source": [
    "<h3>Gyroscope</h3>"
   ]
  },
  {
   "cell_type": "code",
   "execution_count": null,
   "metadata": {},
   "outputs": [],
   "source": [
    "timeArr_y = []\n",
    "yawArr = [] \n",
    "\n",
    "def notification_handler_yaw(uuid, array): \n",
    "    global timeArr_y\n",
    "    global yawArr\n",
    "    \n",
    "    s = ble.bytearray_to_string(array)\n",
    "\n",
    "    if \"*\" in s: \n",
    "        arr = s.split(\"*\")\n",
    "        timeArr_y.append(float(arr[0]))\n",
    "        yawArr.append(float(arr[1])) "
   ]
  },
  {
   "cell_type": "code",
   "execution_count": null,
   "metadata": {},
   "outputs": [],
   "source": [
    "ble.start_notify(ble.uuid['RX_STRING'], notification_handler_yaw)\n",
    "ble.send_command(CMD.GET_YAW_G_DATA, \"\")"
   ]
  },
  {
   "cell_type": "code",
   "execution_count": null,
   "metadata": {},
   "outputs": [],
   "source": [
    "ble.stop_notify(ble.uuid['RX_STRING']) "
   ]
  },
  {
   "cell_type": "code",
   "execution_count": null,
   "metadata": {},
   "outputs": [],
   "source": [
    "print(len(timeArr_y))"
   ]
  },
  {
   "cell_type": "code",
   "execution_count": null,
   "metadata": {},
   "outputs": [],
   "source": [
    "x_values = timeArr_y[1:]\n",
    "y_values = yawArr[1:]\n",
    "\n",
    "plt.figure(figsize=(12, 8))\n",
    "plt.plot(x_values, y_values, color='blue', alpha=0.6, label=\"Unfiltered\")\n",
    "# plt.plot(x_values, y_values_filt, color='orange', alpha=0.6, label=\"Filtered\")\n",
    "\n",
    "# Labels and title\n",
    "plt.xlabel(\"Time (ms)\")\n",
    "plt.ylabel(\"Yaw (degrees)\")\n",
    "\n",
    "plt.title(\"Yaw vs Time Data\")\n",
    "plt.legend()\n",
    "plt.show()"
   ]
  },
  {
   "cell_type": "code",
   "execution_count": null,
   "metadata": {},
   "outputs": [],
   "source": [
    "timeArr_yr = []\n",
    "raw_rollArr_g = [] \n",
    "raw_roll_a = [] \n",
    "roll_lpf = [] \n",
    "roll_comp = [] \n",
    "\n",
    "def notification_handler_roll(uuid, array): \n",
    "    global timeArr_yr\n",
    "    global raw_rollArr_g\n",
    "    global raw_roll_a \n",
    "    global roll_lpf\n",
    "    global roll_comp\n",
    "    \n",
    "    s = ble.bytearray_to_string(array)\n",
    "\n",
    "    if \"*\" in s: \n",
    "        arr = s.split(\"*\")\n",
    "        timeArr_yr.append(float(arr[0]))\n",
    "        raw_rollArr_g.append(float(arr[1])) \n",
    "        raw_roll_a.append(float(arr[2]))\n",
    "        roll_lpf.append(float(arr[3]))\n",
    "        roll_comp.append(float(arr[4]))"
   ]
  },
  {
   "cell_type": "code",
   "execution_count": null,
   "metadata": {},
   "outputs": [],
   "source": [
    "ble.start_notify(ble.uuid['RX_STRING'], notification_handler_roll)\n",
    "ble.send_command(CMD.GET_ROLL_G_DATA, \"\")"
   ]
  },
  {
   "cell_type": "code",
   "execution_count": null,
   "metadata": {},
   "outputs": [],
   "source": [
    "ble.stop_notify(ble.uuid['RX_STRING']) "
   ]
  },
  {
   "cell_type": "code",
   "execution_count": null,
   "metadata": {},
   "outputs": [],
   "source": [
    "print(len(timeArr_yr))"
   ]
  },
  {
   "cell_type": "code",
   "execution_count": null,
   "metadata": {},
   "outputs": [],
   "source": [
    "x_values = timeArr_yr[1:]\n",
    "y_values = raw_rollArr_g[1:]\n",
    "y_values_a = raw_roll_a[1:]\n",
    "y_values_filt = roll_lpf[1:]\n",
    "y_values_comp = roll_comp[1:]\n",
    "\n",
    "plt.figure(figsize=(12, 8))\n",
    "plt.ylim(-200, 200)\n",
    "plt.plot(x_values, y_values, color='orange', label=\"Raw gyro\")\n",
    "plt.plot(x_values, y_values_a, color='green', alpha=0.6, label=\"Raw accel\")\n",
    "plt.plot(x_values, y_values_filt, color='red', alpha=0.6, label=\"LPF accel\")\n",
    "plt.plot(x_values, y_values_comp, color='blue', alpha=0.6, label=\"Comp gyro\")\n",
    "# plt.plot(x_values, y_values_filt, color='orange', alpha=0.6, label=\"Filtered\")\n",
    "\n",
    "# Labels and title\n",
    "plt.xlabel(\"Time (ms)\")\n",
    "plt.ylabel(\"Roll (degrees)\")\n",
    "\n",
    "plt.title(\"Roll vs Time Data\")\n",
    "plt.legend()\n",
    "plt.show()"
   ]
  },
  {
   "cell_type": "code",
   "execution_count": null,
   "metadata": {},
   "outputs": [],
   "source": [
    "timeArr_yp = []\n",
    "raw_pitchArr_g = [] \n",
    "raw_pitch_a = [] \n",
    "pitch_lpf = [] \n",
    "pitch_comp = [] \n",
    "\n",
    "def notification_handler_pitch(uuid, array): \n",
    "    global timeArr_yp\n",
    "    global raw_pitchArr_g\n",
    "    global raw_pitch_a \n",
    "    global pitch_lpf\n",
    "    global pitch_comp\n",
    "    \n",
    "    s = ble.bytearray_to_string(array)\n",
    "\n",
    "    if \"*\" in s: \n",
    "        arr = s.split(\"*\")\n",
    "        timeArr_yp.append(float(arr[0]))\n",
    "        raw_pitchArr_g.append(float(arr[1])) \n",
    "        raw_pitch_a.append(float(arr[2]))\n",
    "        pitch_lpf.append(float(arr[3]))\n",
    "        pitch_comp.append(float(arr[4]))"
   ]
  },
  {
   "cell_type": "code",
   "execution_count": null,
   "metadata": {},
   "outputs": [],
   "source": [
    "ble.start_notify(ble.uuid['RX_STRING'], notification_handler_pitch)\n",
    "ble.send_command(CMD.GET_PITCH_G_DATA, \"\")"
   ]
  },
  {
   "cell_type": "code",
   "execution_count": null,
   "metadata": {},
   "outputs": [],
   "source": [
    "ble.stop_notify(ble.uuid['RX_STRING']) "
   ]
  },
  {
   "cell_type": "code",
   "execution_count": null,
   "metadata": {},
   "outputs": [],
   "source": [
    "print(rollArr_g[:100])"
   ]
  },
  {
   "cell_type": "code",
   "execution_count": null,
   "metadata": {},
   "outputs": [],
   "source": [
    "print(len(timeArr_y))"
   ]
  },
  {
   "cell_type": "code",
   "execution_count": null,
   "metadata": {},
   "outputs": [],
   "source": [
    "print(len(rollArr_g))"
   ]
  },
  {
   "cell_type": "code",
   "execution_count": null,
   "metadata": {},
   "outputs": [],
   "source": [
    "x_values = timeArr_yp[1:]\n",
    "y_values = raw_pitchArr_g[1:]\n",
    "y_values_a = raw_pitch_a[1:]\n",
    "y_values_filt = pitch_lpf[1:]\n",
    "y_values_comp = pitch_comp[1:]\n",
    "\n",
    "plt.figure(figsize=(12, 8))\n",
    "plt.plot(x_values, y_values, color='blue', label=\"Raw gyro\")\n",
    "plt.plot(x_values, y_values_a, color='orange', alpha=0.6, label=\"Raw accel\")\n",
    "plt.plot(x_values, y_values_filt, color='red', alpha=0.6, label=\"LPF accel\")\n",
    "plt.plot(x_values, y_values_comp, color='green', alpha=0.6, label=\"Comp gyro\")\n",
    "\n",
    "# Labels and title\n",
    "plt.ylim(-250, 250)\n",
    "plt.xlabel(\"Time (ms)\")\n",
    "plt.ylabel(\"Pitch (degrees)\")\n",
    "\n",
    "plt.title(\"Pitch vs Time Data\")\n",
    "plt.legend()\n",
    "plt.show()"
   ]
  },
  {
   "cell_type": "code",
   "execution_count": null,
   "metadata": {},
   "outputs": [],
   "source": [
    "import matplotlib.pyplot as plt"
   ]
  },
  {
   "cell_type": "code",
   "execution_count": null,
   "metadata": {},
   "outputs": [],
   "source": [
    "timeArr_yp = []\n",
    "raw_pitch_g = [] \n",
    "raw_pitch_a = [] \n",
    "raw_roll_g = [] \n",
    "raw_roll_a = [] \n",
    "raw_yaw_g = [] \n",
    "pitch_lpf = [] \n",
    "roll_lpf = [] \n",
    "pitch_comp = [] \n",
    "roll_comp = [] \n",
    "\n",
    "def notification_handler_all(uuid, array): \n",
    "    global timeArr_yp\n",
    "    global raw_pitchArr_g\n",
    "    global raw_pitch_a \n",
    "    global raw_roll_a\n",
    "    global pitch_comp\n",
    "    \n",
    "    s = ble.bytearray_to_string(array)\n",
    "    print(s)\n",
    "    if \"*\" in s: \n",
    "        arr = s.split(\"*\")\n",
    "        timeArr_yp.append(float(arr[0]))\n",
    "        raw_pitch_a.append(float(arr[1])) \n",
    "        raw_roll_a.append(float(arr[2]))"
   ]
  },
  {
   "cell_type": "code",
   "execution_count": null,
   "metadata": {},
   "outputs": [],
   "source": [
    "ble.start_notify(ble.uuid['RX_STRING'], notification_handler_all)"
   ]
  },
  {
   "cell_type": "code",
   "execution_count": null,
   "metadata": {},
   "outputs": [],
   "source": [
    "ble.send_command(CMD.START_SEND , \"\")\n",
    "time.sleep(5)\n",
    "ble.send_command(CMD.STOP_SEND , \"\")\n",
    "ble.send_command(CMD.SEND_ALL_DATA , \"\")\n"
   ]
  },
  {
   "cell_type": "code",
   "execution_count": null,
   "metadata": {},
   "outputs": [],
   "source": [
    "print(len(timeArr_yp))"
   ]
  },
  {
   "cell_type": "code",
   "execution_count": null,
   "metadata": {},
   "outputs": [],
   "source": [
    "data = timeArr_yp[0]\n",
    "# time1 = float(data.partition(\" | \")[0] )  # Matches first number (int or float)\n",
    "print(time1)\n",
    "data2 = timeArr_yp[len(timeArr_yp) - 1]\n",
    "# time2 = float(data2.partition(\" | \")[0] )\n",
    "print(time2)\n",
    "diff = (data2 - data)/1000\n",
    "print(diff)\n",
    "print(len(timeArr_yp))"
   ]
  },
  {
   "cell_type": "code",
   "execution_count": null,
   "metadata": {},
   "outputs": [],
   "source": [
    "ble.stop_notify(ble.uuid['RX_STRING']) "
   ]
  },
  {
   "cell_type": "markdown",
   "metadata": {},
   "source": [
    "## Lab 3 Code"
   ]
  },
  {
   "cell_type": "code",
   "execution_count": null,
   "metadata": {},
   "outputs": [],
   "source": [
    "timeArr = []\n",
    "sensor1_vals = [] \n",
    "sensor2_vals = [] \n",
    "\n",
    "\n",
    "def notification_handler_all(uuid, array): \n",
    "    global timeArr\n",
    "    global sensor1_vals\n",
    "    global sensor2_vals \n",
    "    \n",
    "    s = ble.bytearray_to_string(array)\n",
    "    print(s)\n",
    "    if \"*\" in s: \n",
    "        arr = s.split(\"*\")\n",
    "        timeArr.append(float(arr[0]))\n",
    "        sensor1_vals.append(float(arr[1])) \n",
    "        sensor2_vals.append(float(arr[2]))"
   ]
  },
  {
   "cell_type": "code",
   "execution_count": null,
   "metadata": {},
   "outputs": [],
   "source": [
    "ble.start_notify(ble.uuid['RX_STRING'], notif_handler)"
   ]
  },
  {
   "cell_type": "code",
   "execution_count": null,
   "metadata": {},
   "outputs": [],
   "source": [
    "ble.send_command(CMD.GET_TOF_DATA, \"\")"
   ]
  },
  {
   "cell_type": "code",
   "execution_count": null,
   "metadata": {},
   "outputs": [],
   "source": [
    "print(len(timeArr))"
   ]
  },
  {
   "cell_type": "code",
   "execution_count": null,
   "metadata": {},
   "outputs": [],
   "source": [
    "tof_data = msg"
   ]
  },
  {
   "cell_type": "code",
   "execution_count": null,
   "metadata": {},
   "outputs": [],
   "source": [
    "sensor1_vals = np.array([1476.0, 1478.0, 1478.0, 1477.0, 1480.0, 1477.0, 1477.0, 1477.0, 1480.0, 1477.0])"
   ]
  },
  {
   "cell_type": "code",
   "execution_count": null,
   "metadata": {},
   "outputs": [],
   "source": [
    "print(sensor1_vals)\n",
    "\n",
    "sensor1_vals_avg = np.sum(sensor1_vals) / 10\n",
    "print(\"average: \", sensor1_vals_avg)\n",
    "\n",
    "std = np.std(sensor1_vals)\n",
    "print(\"std: \", std)"
   ]
  },
  {
   "cell_type": "code",
   "execution_count": null,
   "metadata": {},
   "outputs": [],
   "source": [
    "mean_vals.append(sensor1_vals_avg)\n",
    "print(mean_vals)"
   ]
  },
  {
   "cell_type": "code",
   "execution_count": null,
   "metadata": {},
   "outputs": [],
   "source": [
    "# mean_vals = [] "
   ]
  },
  {
   "cell_type": "code",
   "execution_count": null,
   "metadata": {},
   "outputs": [],
   "source": [
    "import matplotlib.pyplot as plt"
   ]
  },
  {
   "cell_type": "code",
   "execution_count": null,
   "metadata": {},
   "outputs": [],
   "source": [
    "actual_vals = [254, 508, 762, 1016, 1270, 1524]"
   ]
  },
  {
   "cell_type": "code",
   "execution_count": null,
   "metadata": {},
   "outputs": [],
   "source": [
    "plt.figure(figsize=(12, 8))\n",
    "plt.plot(actual_vals, mean_vals, marker='o')\n",
    "plt.axvline(x=1300, color='orange', linestyle='--', label=\"1.3 meter line\")\n",
    "plt.xlabel(\"Actual Distance (mm)\")\n",
    "plt.ylabel(\"Measured Distance (mm)\")\n",
    "plt.title(\"ToF Sensor Data\")\n",
    "plt.grid(True)\n",
    "plt.legend()\n",
    "plt.show()"
   ]
  },
  {
   "cell_type": "code",
   "execution_count": null,
   "metadata": {},
   "outputs": [],
   "source": [
    "plt.figure(figsize=(12, 8))\n",
    "difference_vals = np.array(mean_vals) - np.array(actual_vals)\n",
    "plt.plot(actual_vals, difference_vals, marker='o')\n",
    "plt.axvline(x=1300, color='orange', linestyle='--', label=\"1.3 meter line\")\n",
    "plt.xlabel(\"Actual Distance (mm)\")\n",
    "plt.ylabel(\"Difference in Distances (mm)\")\n",
    "plt.title(\"ToF Sensor Data: Accuracy\")\n",
    "plt.grid(True)\n",
    "plt.legend()\n",
    "plt.show()"
   ]
  },
  {
   "cell_type": "code",
   "execution_count": null,
   "metadata": {},
   "outputs": [],
   "source": [
    "std_devs = [0.8718, 0.7483, 1.0, 0.6403, 0.4, 1.2689]"
   ]
  },
  {
   "cell_type": "code",
   "execution_count": null,
   "metadata": {},
   "outputs": [],
   "source": [
    "plt.figure(figsize=(12, 8))\n",
    "\n",
    "plt.plot(actual_vals, std_devs, marker='o')\n",
    "plt.axvline(x=1300, color='orange', linestyle='--', label=\"1.3 meter line\")\n",
    "plt.xlabel(\"Actual Distance (mm)\")\n",
    "plt.ylabel(\"Std. Dev (mm)\")\n",
    "plt.title(\"ToF Sensor Data: Precision\")\n",
    "plt.grid(True)\n",
    "plt.legend()\n",
    "plt.show()"
   ]
  },
  {
   "cell_type": "code",
   "execution_count": null,
   "metadata": {},
   "outputs": [],
   "source": [
    "coordinates = [tuple(map(float, s.split(','))) for s in tof_data]\n",
    "\n",
    "time_values, sensor1_values, sensor2_values = zip(*coordinates)\n",
    "\n",
    "plt.figure(figsize=(12, 8))\n",
    "# plt.scatter(x_values, y_values, color='blue', label=\"Points\")\n",
    "plt.plot(time_values, sensor1_values, color='orange', label=\"Sensor 1\")\n",
    "plt.plot(time_values, sensor2_values, color='purple', label=\"Sensor 2\")\n",
    "\n",
    "plt.xlabel(\"Time\")\n",
    "plt.ylabel(\"Distance\")\n",
    "plt.title(\"ToF Sensor Data\")\n",
    "plt.grid(True)\n",
    "plt.legend()\n",
    "\n",
    "plt.show()"
   ]
  },
  {
   "cell_type": "markdown",
   "metadata": {},
   "source": [
    "## Disconnect"
   ]
  },
  {
   "cell_type": "code",
   "execution_count": null,
   "metadata": {
    "tags": []
   },
   "outputs": [],
   "source": [
    "# Disconnect\n",
    "ble.disconnect()"
   ]
  },
  {
   "cell_type": "code",
   "execution_count": null,
   "metadata": {},
   "outputs": [],
   "source": []
  }
 ],
 "metadata": {
  "kernelspec": {
   "display_name": "Python 3 (ipykernel)",
   "language": "python",
   "name": "python3"
  },
  "language_info": {
   "codemirror_mode": {
    "name": "ipython",
    "version": 3
   },
   "file_extension": ".py",
   "mimetype": "text/x-python",
   "name": "python",
   "nbconvert_exporter": "python",
   "pygments_lexer": "ipython3",
   "version": "3.11.10"
  }
 },
 "nbformat": 4,
 "nbformat_minor": 4
}
